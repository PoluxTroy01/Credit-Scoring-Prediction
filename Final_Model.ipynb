{
 "cells": [
  {
   "cell_type": "markdown",
   "id": "fe65538b-68ac-4414-9b39-681ea84bc713",
   "metadata": {},
   "source": [
    "# Final Model"
   ]
  },
  {
   "cell_type": "code",
   "execution_count": 2,
   "id": "3f0ca421-b660-49ed-995a-1d30379323ff",
   "metadata": {
    "tags": []
   },
   "outputs": [],
   "source": [
    "import pandas as pd\n",
    "import numpy as np\n",
    "from sklearn.linear_model import LogisticRegression\n",
    "from sklearn import metrics"
   ]
  },
  {
   "cell_type": "code",
   "execution_count": 1,
   "id": "5df8c85f-b127-415f-aa17-5696f57c5153",
   "metadata": {
    "tags": []
   },
   "outputs": [],
   "source": [
    "from sklearn import linear_model\n",
    "import numpy as np\n",
    "import scipy.stats as stat\n",
    "\n",
    "class RegresionLogistica_con_p_values:\n",
    "    \"\"\"\n",
    "    Wrapper Class for Logistic Regression which has the usual sklearn instance \n",
    "    in an attribute self.model, and pvalues, z scores and estimated \n",
    "    errors for each coefficient in \n",
    "    \n",
    "    self.z_scores\n",
    "    self.p_values\n",
    "    self.sigma_estimates\n",
    "    \n",
    "    as well as the negative hessian of the log Likelihood (Fisher information)\n",
    "    \n",
    "    self.F_ij\n",
    "    \"\"\"\n",
    "    \n",
    "    def __init__(self,*args,**kwargs):#,**kwargs):\n",
    "        self.model = linear_model.LogisticRegression(*args,**kwargs, solver = 'newton-cg')#,**args)\n",
    "\n",
    "    def fit(self,X,y):\n",
    "        self.model.fit(X,y)\n",
    "        #### Get p-values for the fitted model ####\n",
    "        denom = (2.0*(1.0+np.cosh(self.model.decision_function(X))))\n",
    "        denom = np.tile(denom,(X.shape[1],1)).T\n",
    "        F_ij = np.dot((X/denom).T,X) ## Fisher Information Matrix\n",
    "        Cramer_Rao = np.linalg.inv(F_ij) ## Inverse Information Matrix\n",
    "        sigma_estimates = np.sqrt(np.diagonal(Cramer_Rao))\n",
    "        z_scores = self.model.coef_[0]/sigma_estimates # z-score for eaach model coefficient\n",
    "        p_values = [stat.norm.sf(abs(x))*2 for x in z_scores] ### two tailed test for p-values\n",
    "        \n",
    "        self.z_scores = z_scores\n",
    "        self.p_values = p_values\n",
    "        self.sigma_estimates = sigma_estimates\n",
    "        self.F_ij = F_ij"
   ]
  },
  {
   "cell_type": "markdown",
   "id": "9a9b7fd0-cfb2-4135-8139-af03290dc104",
   "metadata": {},
   "source": [
    "## Importing the data"
   ]
  },
  {
   "cell_type": "code",
   "execution_count": 12,
   "id": "a2650455-d2ef-431e-8296-9be5d5cedd13",
   "metadata": {
    "tags": []
   },
   "outputs": [],
   "source": [
    "X_train = pd.read_csv(\"X_train.csv\", index_col=0)"
   ]
  },
  {
   "cell_type": "code",
   "execution_count": 13,
   "id": "f2f6f321-b672-4553-b509-6828ada1bc68",
   "metadata": {
    "tags": []
   },
   "outputs": [],
   "source": [
    "X_test = pd.read_csv(\"X_test.csv\", index_col=0)"
   ]
  },
  {
   "cell_type": "code",
   "execution_count": 14,
   "id": "bbb09089-c131-4209-bc32-ed3a3fe18d20",
   "metadata": {
    "tags": []
   },
   "outputs": [],
   "source": [
    "y_train = pd.read_csv(\"y_train.csv\", index_col=0)"
   ]
  },
  {
   "cell_type": "code",
   "execution_count": 15,
   "id": "932ac129-a041-4043-8419-07a47f678f78",
   "metadata": {
    "tags": []
   },
   "outputs": [],
   "source": [
    "y_test = pd.read_csv(\"y_test.csv\", index_col=0)"
   ]
  },
  {
   "cell_type": "markdown",
   "id": "3cf37e81-332d-4ee8-8bc0-b98d654e1943",
   "metadata": {
    "tags": []
   },
   "source": [
    "# Training the model"
   ]
  },
  {
   "cell_type": "code",
   "execution_count": 27,
   "id": "8dd1cbdb-73f5-4bdd-81f8-ff01dcc61e3b",
   "metadata": {
    "tags": []
   },
   "outputs": [],
   "source": [
    "X_train = X_train.loc[:, [#\"Account_check_status_first2\",\n",
    "                           \"Account_check_status_last2\",\n",
    "                           #\"Credit_history_team1\",\n",
    "                           \"Credit_history_team2\",\n",
    "                           \"Credit_history_critical account/ other credits existing (not at this bank)\",\n",
    "                           #\"Purpose_vacation_forniture_education\",\n",
    "                           \"Purpose_car (new)\",\n",
    "                           \"Purpose_business\",\n",
    "                           \"Purpose_radio/television\",\n",
    "                           \"Purpose_domestic appliances\",\n",
    "                           \"Purpose_repairs_carUsed_retraining\",\n",
    "                           #\"Savings_... < 100 DM\",\n",
    "                           \"Savings_100 <= ... < 500 DM\",\n",
    "                           \"Savings_500 <= ... < 1000 DM \",\n",
    "                           \"Savings_unknown/ no savings account\",\n",
    "                           \"Savings_.. >= 1000 DM \",\n",
    "                           #\"Present_emp_since_unemployed_less1\",\n",
    "                           \"Present_emp_since_1 <= ... < 4 years\",\n",
    "                           \"Present_emp_since_.. >= 7 years\",\n",
    "                           \"Present_emp_since_4 <= ... < 7 years\",\n",
    "                           #\"Personal_status_sex_male : divorced/separated\",\n",
    "                           \"Personal_status_sex_female : divorced/separated/married\",\n",
    "                           \"Personal_status_sex_male : married/widowed\",\n",
    "                           \"Personal_status_sex_male : single\",\n",
    "                           # \"Other_debtors_co-applicant\",\n",
    "                           # \"Other_debtors_none\",\n",
    "                           # \"Other_debtors_guarantor\",\n",
    "                           # \"Property_unknown / no property\",\n",
    "                           # \"Property_middle\",\n",
    "                           # \"Property_real estate\",\n",
    "                           #\"Other_installment_plans_stores_bank\",\n",
    "                           \"Other_installment_plans_none\",\n",
    "                           # \"Housing_free_rent\",\n",
    "                           # \"Housing_own\",\n",
    "                           # \"Job_management/ self-employed/ highly qualified employee/ officer\",\n",
    "                           # \"Job_skilled employee / official\",\n",
    "                           # \"Job_unemployed_unskilled\",\n",
    "                           # \"Telephone_none\",\n",
    "                           # \"Telephone_yes, registered under the customers name \",\n",
    "                           # \"Foreign_worker_yes\",\n",
    "                           # \"Foreign_worker_no\",\n",
    "                           # \"People_under_maintenance_2\",\n",
    "                           # \"People_under_maintenance_1\",\n",
    "                           # \"Credits_this_bank_1\",\n",
    "                           # \"Credits_this_bank_2\",\n",
    "                           # \"Credits_this_bank_3\",\n",
    "                           # \"Credits_this_bank_4\",\n",
    "                           # \"Age_1\",\n",
    "                           # \"Age_2\",\n",
    "                           # \"Age_3\",\n",
    "                           # \"Age_4\",\n",
    "                           # \"Age_5\",\n",
    "                           # \"Age_6\",\n",
    "                           # \"Duration_in_month_1\",\n",
    "                           # \"Duration_in_month_2\",\n",
    "                           # \"Duration_in_month_3\",\n",
    "                           # \"Duration_in_month_4\",\n",
    "                           # \"Duration_in_month_5\",\n",
    "                           \"Credit_amount_1\",\n",
    "                           \"Credit_amount_2\",\n",
    "                           #\"Credit_amount_3\",\n",
    "                           \"Installment_as_income_perc_1\",\n",
    "                           \"Installment_as_income_perc_2\",\n",
    "                           \"Installment_as_income_perc_3\",\n",
    "                           #\"Installment_as_income_perc_4\",\n",
    "                           \"Present_res_since_1\",\n",
    "                           #\"Present_res_since_2\",\n",
    "                           \"Present_res_since_3\",\n",
    "                           \"Present_res_since_4\"]]"
   ]
  },
  {
   "cell_type": "code",
   "execution_count": 25,
   "id": "35886a45-25dd-400f-a7c8-788a0690a645",
   "metadata": {
    "tags": []
   },
   "outputs": [],
   "source": [
    "categorias_referencia = [\"Account_check_status_first2\",\n",
    "                         \"Credit_history_team1\",\n",
    "                         \"Purpose_vacation_forniture_education\",\n",
    "                         \"Savings_... < 100 DM\",\n",
    "                         \"Present_emp_since_unemployed_less1\",\n",
    "                         \"Personal_status_sex_male : divorced/separated\",\n",
    "                         #\"Other_debtors_co-applicant\",\n",
    "                         #\"Property_unknown / no property\",\n",
    "                         \"Other_installment_plans_stores_bank\",\n",
    "                         #\"Housing_free_rent\",\n",
    "                         #\"Job_management/ self-employed/ highly qualified employee/ officer\",\n",
    "                         #\"Telephone_none\",\n",
    "                         #\"Foreign_worker_yes\",\n",
    "                         #\"People_under_maintenance_1\",\n",
    "                         #\"Credits_this_bank_4\",\n",
    "                         #\"Age_1\",\n",
    "                         #\"Duration_in_month_4\"]\n",
    "                         \"Credit_amount_3\"\n",
    "                         \"Installment_as_income_perc_4\"\n",
    "                         \"Present_res_since_2\"]"
   ]
  },
  {
   "cell_type": "code",
   "execution_count": 29,
   "id": "2c360004-378d-4671-a1cc-98a686f29740",
   "metadata": {
    "tags": []
   },
   "outputs": [],
   "source": [
    "regresion2 = LogisticRegression(solver='newton-cg')"
   ]
  },
  {
   "cell_type": "code",
   "execution_count": 30,
   "id": "d0af4119-4fa4-46c1-9113-cc982764a0a9",
   "metadata": {
    "tags": []
   },
   "outputs": [],
   "source": [
    "regresion2_p_values = RegresionLogistica_con_p_values()"
   ]
  },
  {
   "cell_type": "code",
   "execution_count": 31,
   "id": "b6f7c4d6-86a7-4641-bea5-d6eea3f51b6c",
   "metadata": {
    "tags": []
   },
   "outputs": [
    {
     "data": {
      "text/plain": [
       "LogisticRegression(C=1.0, class_weight=None, dual=False, fit_intercept=True,\n",
       "                   intercept_scaling=1, l1_ratio=None, max_iter=100,\n",
       "                   multi_class='auto', n_jobs=None, penalty='l2',\n",
       "                   random_state=None, solver='newton-cg', tol=0.0001, verbose=0,\n",
       "                   warm_start=False)"
      ]
     },
     "execution_count": 31,
     "metadata": {},
     "output_type": "execute_result"
    }
   ],
   "source": [
    "regresion2.fit(X_train, y_train.values.ravel())"
   ]
  },
  {
   "cell_type": "code",
   "execution_count": 32,
   "id": "7ba5ba08-6df3-460f-8e35-f643562bd5ef",
   "metadata": {
    "tags": []
   },
   "outputs": [],
   "source": [
    "regresion2_p_values.fit(X_train, y_train.values.ravel())"
   ]
  },
  {
   "cell_type": "code",
   "execution_count": 33,
   "id": "6ced2768-e7ef-412c-a55d-93d682ab2cc5",
   "metadata": {
    "tags": []
   },
   "outputs": [],
   "source": [
    "nombres_var_independientes = X_train.columns.values\n",
    "tabla_resultados = pd.DataFrame(columns = [\"Variable Independiente\"], data=nombres_var_independientes)\n",
    "tabla_resultados[\"Coeficientes\"] = np.transpose(regresion2.coef_)\n",
    "tabla_resultados.index = tabla_resultados.index + 1 \n",
    "tabla_resultados.loc[0] = [\"Intercept\", regresion2.intercept_[0]]\n",
    "tabla_resultados = tabla_resultados.sort_index()\n",
    "p_values = regresion2_p_values.p_values\n",
    "p_values = np.append(np.nan, np.array(p_values))\n",
    "tabla_resultados['p_values'] = p_values"
   ]
  },
  {
   "cell_type": "code",
   "execution_count": 34,
   "id": "788ea4a5-53f5-45e9-8028-4fd6752ec051",
   "metadata": {
    "tags": []
   },
   "outputs": [
    {
     "data": {
      "text/html": [
       "<div>\n",
       "<style scoped>\n",
       "    .dataframe tbody tr th:only-of-type {\n",
       "        vertical-align: middle;\n",
       "    }\n",
       "\n",
       "    .dataframe tbody tr th {\n",
       "        vertical-align: top;\n",
       "    }\n",
       "\n",
       "    .dataframe thead th {\n",
       "        text-align: right;\n",
       "    }\n",
       "</style>\n",
       "<table border=\"1\" class=\"dataframe\">\n",
       "  <thead>\n",
       "    <tr style=\"text-align: right;\">\n",
       "      <th></th>\n",
       "      <th>Variable Independiente</th>\n",
       "      <th>Coeficientes</th>\n",
       "      <th>p_values</th>\n",
       "    </tr>\n",
       "  </thead>\n",
       "  <tbody>\n",
       "    <tr>\n",
       "      <th>0</th>\n",
       "      <td>Intercept</td>\n",
       "      <td>-3.854813</td>\n",
       "      <td>NaN</td>\n",
       "    </tr>\n",
       "    <tr>\n",
       "      <th>1</th>\n",
       "      <td>Account_check_status_last2</td>\n",
       "      <td>1.311125</td>\n",
       "      <td>2.985835e-12</td>\n",
       "    </tr>\n",
       "    <tr>\n",
       "      <th>2</th>\n",
       "      <td>Credit_history_team2</td>\n",
       "      <td>0.625940</td>\n",
       "      <td>2.112054e-02</td>\n",
       "    </tr>\n",
       "    <tr>\n",
       "      <th>3</th>\n",
       "      <td>Credit_history_critical account/ other credits...</td>\n",
       "      <td>1.381755</td>\n",
       "      <td>1.022432e-05</td>\n",
       "    </tr>\n",
       "    <tr>\n",
       "      <th>4</th>\n",
       "      <td>Purpose_car (new)</td>\n",
       "      <td>-0.194120</td>\n",
       "      <td>5.182424e-01</td>\n",
       "    </tr>\n",
       "    <tr>\n",
       "      <th>5</th>\n",
       "      <td>Purpose_business</td>\n",
       "      <td>0.347179</td>\n",
       "      <td>3.317076e-01</td>\n",
       "    </tr>\n",
       "    <tr>\n",
       "      <th>6</th>\n",
       "      <td>Purpose_radio/television</td>\n",
       "      <td>0.287699</td>\n",
       "      <td>3.596096e-01</td>\n",
       "    </tr>\n",
       "    <tr>\n",
       "      <th>7</th>\n",
       "      <td>Purpose_domestic appliances</td>\n",
       "      <td>0.547694</td>\n",
       "      <td>7.277841e-02</td>\n",
       "    </tr>\n",
       "    <tr>\n",
       "      <th>8</th>\n",
       "      <td>Purpose_repairs_carUsed_retraining</td>\n",
       "      <td>1.138775</td>\n",
       "      <td>2.582450e-03</td>\n",
       "    </tr>\n",
       "    <tr>\n",
       "      <th>9</th>\n",
       "      <td>Savings_100 &lt;= ... &lt; 500 DM</td>\n",
       "      <td>0.285585</td>\n",
       "      <td>3.030649e-01</td>\n",
       "    </tr>\n",
       "    <tr>\n",
       "      <th>10</th>\n",
       "      <td>Savings_500 &lt;= ... &lt; 1000 DM</td>\n",
       "      <td>0.360066</td>\n",
       "      <td>3.623236e-01</td>\n",
       "    </tr>\n",
       "    <tr>\n",
       "      <th>11</th>\n",
       "      <td>Savings_unknown/ no savings account</td>\n",
       "      <td>0.958883</td>\n",
       "      <td>2.500629e-04</td>\n",
       "    </tr>\n",
       "    <tr>\n",
       "      <th>12</th>\n",
       "      <td>Savings_.. &gt;= 1000 DM</td>\n",
       "      <td>1.044051</td>\n",
       "      <td>2.585064e-02</td>\n",
       "    </tr>\n",
       "    <tr>\n",
       "      <th>13</th>\n",
       "      <td>Present_emp_since_1 &lt;= ... &lt; 4 years</td>\n",
       "      <td>0.299971</td>\n",
       "      <td>1.698579e-01</td>\n",
       "    </tr>\n",
       "    <tr>\n",
       "      <th>14</th>\n",
       "      <td>Present_emp_since_.. &gt;= 7 years</td>\n",
       "      <td>0.258979</td>\n",
       "      <td>3.068215e-01</td>\n",
       "    </tr>\n",
       "    <tr>\n",
       "      <th>15</th>\n",
       "      <td>Present_emp_since_4 &lt;= ... &lt; 7 years</td>\n",
       "      <td>0.611274</td>\n",
       "      <td>2.642706e-02</td>\n",
       "    </tr>\n",
       "    <tr>\n",
       "      <th>16</th>\n",
       "      <td>Personal_status_sex_female : divorced/separate...</td>\n",
       "      <td>0.123372</td>\n",
       "      <td>7.102639e-01</td>\n",
       "    </tr>\n",
       "    <tr>\n",
       "      <th>17</th>\n",
       "      <td>Personal_status_sex_male : married/widowed</td>\n",
       "      <td>0.390763</td>\n",
       "      <td>3.460635e-01</td>\n",
       "    </tr>\n",
       "    <tr>\n",
       "      <th>18</th>\n",
       "      <td>Personal_status_sex_male : single</td>\n",
       "      <td>0.765935</td>\n",
       "      <td>1.464463e-02</td>\n",
       "    </tr>\n",
       "    <tr>\n",
       "      <th>19</th>\n",
       "      <td>Other_installment_plans_none</td>\n",
       "      <td>0.476320</td>\n",
       "      <td>2.250449e-02</td>\n",
       "    </tr>\n",
       "    <tr>\n",
       "      <th>20</th>\n",
       "      <td>Credit_amount_1</td>\n",
       "      <td>1.526164</td>\n",
       "      <td>1.027038e-05</td>\n",
       "    </tr>\n",
       "    <tr>\n",
       "      <th>21</th>\n",
       "      <td>Credit_amount_2</td>\n",
       "      <td>0.477380</td>\n",
       "      <td>2.010411e-01</td>\n",
       "    </tr>\n",
       "    <tr>\n",
       "      <th>22</th>\n",
       "      <td>Installment_as_income_perc_1</td>\n",
       "      <td>0.968047</td>\n",
       "      <td>4.012884e-04</td>\n",
       "    </tr>\n",
       "    <tr>\n",
       "      <th>23</th>\n",
       "      <td>Installment_as_income_perc_2</td>\n",
       "      <td>0.766174</td>\n",
       "      <td>6.542064e-04</td>\n",
       "    </tr>\n",
       "    <tr>\n",
       "      <th>24</th>\n",
       "      <td>Installment_as_income_perc_3</td>\n",
       "      <td>0.406133</td>\n",
       "      <td>1.019947e-01</td>\n",
       "    </tr>\n",
       "    <tr>\n",
       "      <th>25</th>\n",
       "      <td>Present_res_since_1</td>\n",
       "      <td>0.643841</td>\n",
       "      <td>2.161144e-02</td>\n",
       "    </tr>\n",
       "    <tr>\n",
       "      <th>26</th>\n",
       "      <td>Present_res_since_3</td>\n",
       "      <td>0.261984</td>\n",
       "      <td>3.329004e-01</td>\n",
       "    </tr>\n",
       "    <tr>\n",
       "      <th>27</th>\n",
       "      <td>Present_res_since_4</td>\n",
       "      <td>0.290955</td>\n",
       "      <td>1.643927e-01</td>\n",
       "    </tr>\n",
       "  </tbody>\n",
       "</table>\n",
       "</div>"
      ],
      "text/plain": [
       "                               Variable Independiente  Coeficientes  \\\n",
       "0                                           Intercept     -3.854813   \n",
       "1                          Account_check_status_last2      1.311125   \n",
       "2                                Credit_history_team2      0.625940   \n",
       "3   Credit_history_critical account/ other credits...      1.381755   \n",
       "4                                   Purpose_car (new)     -0.194120   \n",
       "5                                    Purpose_business      0.347179   \n",
       "6                            Purpose_radio/television      0.287699   \n",
       "7                         Purpose_domestic appliances      0.547694   \n",
       "8                  Purpose_repairs_carUsed_retraining      1.138775   \n",
       "9                         Savings_100 <= ... < 500 DM      0.285585   \n",
       "10                      Savings_500 <= ... < 1000 DM       0.360066   \n",
       "11                Savings_unknown/ no savings account      0.958883   \n",
       "12                             Savings_.. >= 1000 DM       1.044051   \n",
       "13               Present_emp_since_1 <= ... < 4 years      0.299971   \n",
       "14                    Present_emp_since_.. >= 7 years      0.258979   \n",
       "15               Present_emp_since_4 <= ... < 7 years      0.611274   \n",
       "16  Personal_status_sex_female : divorced/separate...      0.123372   \n",
       "17         Personal_status_sex_male : married/widowed      0.390763   \n",
       "18                  Personal_status_sex_male : single      0.765935   \n",
       "19                       Other_installment_plans_none      0.476320   \n",
       "20                                    Credit_amount_1      1.526164   \n",
       "21                                    Credit_amount_2      0.477380   \n",
       "22                       Installment_as_income_perc_1      0.968047   \n",
       "23                       Installment_as_income_perc_2      0.766174   \n",
       "24                       Installment_as_income_perc_3      0.406133   \n",
       "25                                Present_res_since_1      0.643841   \n",
       "26                                Present_res_since_3      0.261984   \n",
       "27                                Present_res_since_4      0.290955   \n",
       "\n",
       "        p_values  \n",
       "0            NaN  \n",
       "1   2.985835e-12  \n",
       "2   2.112054e-02  \n",
       "3   1.022432e-05  \n",
       "4   5.182424e-01  \n",
       "5   3.317076e-01  \n",
       "6   3.596096e-01  \n",
       "7   7.277841e-02  \n",
       "8   2.582450e-03  \n",
       "9   3.030649e-01  \n",
       "10  3.623236e-01  \n",
       "11  2.500629e-04  \n",
       "12  2.585064e-02  \n",
       "13  1.698579e-01  \n",
       "14  3.068215e-01  \n",
       "15  2.642706e-02  \n",
       "16  7.102639e-01  \n",
       "17  3.460635e-01  \n",
       "18  1.464463e-02  \n",
       "19  2.250449e-02  \n",
       "20  1.027038e-05  \n",
       "21  2.010411e-01  \n",
       "22  4.012884e-04  \n",
       "23  6.542064e-04  \n",
       "24  1.019947e-01  \n",
       "25  2.161144e-02  \n",
       "26  3.329004e-01  \n",
       "27  1.643927e-01  "
      ]
     },
     "execution_count": 34,
     "metadata": {},
     "output_type": "execute_result"
    }
   ],
   "source": [
    "tabla_resultados"
   ]
  },
  {
   "cell_type": "markdown",
   "id": "63fbfaad-a6e5-41d8-9e1e-7a3cd8a28df6",
   "metadata": {},
   "source": [
    "# Validate the Model"
   ]
  },
  {
   "cell_type": "code",
   "execution_count": 37,
   "id": "c2106d71-2dfa-455f-b97f-32e204b3f6fb",
   "metadata": {
    "tags": []
   },
   "outputs": [],
   "source": [
    "X_test = X_test.loc[:, [#\"Account_check_status_first2\",\n",
    "                           \"Account_check_status_last2\",\n",
    "                           #\"Credit_history_team1\",\n",
    "                           \"Credit_history_team2\",\n",
    "                           \"Credit_history_critical account/ other credits existing (not at this bank)\",\n",
    "                           #\"Purpose_vacation_forniture_education\",\n",
    "                           \"Purpose_car (new)\",\n",
    "                           \"Purpose_business\",\n",
    "                           \"Purpose_radio/television\",\n",
    "                           \"Purpose_domestic appliances\",\n",
    "                           \"Purpose_repairs_carUsed_retraining\",\n",
    "                           #\"Savings_... < 100 DM\",\n",
    "                           \"Savings_100 <= ... < 500 DM\",\n",
    "                           \"Savings_500 <= ... < 1000 DM \",\n",
    "                           \"Savings_unknown/ no savings account\",\n",
    "                           \"Savings_.. >= 1000 DM \",\n",
    "                           #\"Present_emp_since_unemployed_less1\",\n",
    "                           \"Present_emp_since_1 <= ... < 4 years\",\n",
    "                           \"Present_emp_since_.. >= 7 years\",\n",
    "                           \"Present_emp_since_4 <= ... < 7 years\",\n",
    "                           #\"Personal_status_sex_male : divorced/separated\",\n",
    "                           \"Personal_status_sex_female : divorced/separated/married\",\n",
    "                           \"Personal_status_sex_male : married/widowed\",\n",
    "                           \"Personal_status_sex_male : single\",\n",
    "                           # \"Other_debtors_co-applicant\",\n",
    "                           # \"Other_debtors_none\",\n",
    "                           # \"Other_debtors_guarantor\",\n",
    "                           # \"Property_unknown / no property\",\n",
    "                           # \"Property_middle\",\n",
    "                           # \"Property_real estate\",\n",
    "                           #\"Other_installment_plans_stores_bank\",\n",
    "                           \"Other_installment_plans_none\",\n",
    "                           # \"Housing_free_rent\",\n",
    "                           # \"Housing_own\",\n",
    "                           # \"Job_management/ self-employed/ highly qualified employee/ officer\",\n",
    "                           # \"Job_skilled employee / official\",\n",
    "                           # \"Job_unemployed_unskilled\",\n",
    "                           # \"Telephone_none\",\n",
    "                           # \"Telephone_yes, registered under the customers name \",\n",
    "                           # \"Foreign_worker_yes\",\n",
    "                           # \"Foreign_worker_no\",\n",
    "                           # \"People_under_maintenance_2\",\n",
    "                           # \"People_under_maintenance_1\",\n",
    "                           # \"Credits_this_bank_1\",\n",
    "                           # \"Credits_this_bank_2\",\n",
    "                           # \"Credits_this_bank_3\",\n",
    "                           # \"Credits_this_bank_4\",\n",
    "                           # \"Age_1\",\n",
    "                           # \"Age_2\",\n",
    "                           # \"Age_3\",\n",
    "                           # \"Age_4\",\n",
    "                           # \"Age_5\",\n",
    "                           # \"Age_6\",\n",
    "                           # \"Duration_in_month_1\",\n",
    "                           # \"Duration_in_month_2\",\n",
    "                           # \"Duration_in_month_3\",\n",
    "                           # \"Duration_in_month_4\",\n",
    "                           # \"Duration_in_month_5\",\n",
    "                           \"Credit_amount_1\",\n",
    "                           \"Credit_amount_2\",\n",
    "                           #\"Credit_amount_3\",\n",
    "                           \"Installment_as_income_perc_1\",\n",
    "                           \"Installment_as_income_perc_2\",\n",
    "                           \"Installment_as_income_perc_3\",\n",
    "                           #\"Installment_as_income_perc_4\",\n",
    "                           \"Present_res_since_1\",\n",
    "                           #\"Present_res_since_2\",\n",
    "                           \"Present_res_since_3\",\n",
    "                           \"Present_res_since_4\"]]"
   ]
  },
  {
   "cell_type": "code",
   "execution_count": 39,
   "id": "78856173-866e-4327-b1fe-0bf0dca21057",
   "metadata": {
    "tags": []
   },
   "outputs": [],
   "source": [
    "prediccion_y = regresion2.predict(X_test)"
   ]
  },
  {
   "cell_type": "code",
   "execution_count": 40,
   "id": "bd6b2262-9ae1-4d06-87e7-ec247f52b59c",
   "metadata": {
    "tags": []
   },
   "outputs": [],
   "source": [
    "probabilidad_y = regresion2.predict_proba(X_test)"
   ]
  },
  {
   "cell_type": "code",
   "execution_count": 41,
   "id": "b8a2bde8-7f6b-4843-9925-3575c4a7263c",
   "metadata": {
    "tags": []
   },
   "outputs": [],
   "source": [
    "probabilidad_bueno = probabilidad_y[:, 1]"
   ]
  },
  {
   "cell_type": "code",
   "execution_count": 42,
   "id": "870e0857-6a36-4e9f-8a46-91cd3270ab43",
   "metadata": {
    "tags": []
   },
   "outputs": [],
   "source": [
    "# real values\n",
    "valores_reales = y_test"
   ]
  },
  {
   "cell_type": "code",
   "execution_count": 44,
   "id": "b008ac3b-f6cf-4da5-bac8-a1220d199deb",
   "metadata": {
    "tags": []
   },
   "outputs": [],
   "source": [
    "valores_reales.reset_index(drop=True, inplace=True)"
   ]
  },
  {
   "cell_type": "code",
   "execution_count": 45,
   "id": "8bea689d-3b69-4cfb-887c-42d2d509edb8",
   "metadata": {
    "tags": []
   },
   "outputs": [],
   "source": [
    "df_prediccion = pd.concat([valores_reales, pd.DataFrame(probabilidad_bueno)], axis=1)"
   ]
  },
  {
   "cell_type": "code",
   "execution_count": 47,
   "id": "da812531-4689-4162-9fbd-f9a9f0a6c55d",
   "metadata": {
    "tags": []
   },
   "outputs": [
    {
     "data": {
      "text/html": [
       "<div>\n",
       "<style scoped>\n",
       "    .dataframe tbody tr th:only-of-type {\n",
       "        vertical-align: middle;\n",
       "    }\n",
       "\n",
       "    .dataframe tbody tr th {\n",
       "        vertical-align: top;\n",
       "    }\n",
       "\n",
       "    .dataframe thead th {\n",
       "        text-align: right;\n",
       "    }\n",
       "</style>\n",
       "<table border=\"1\" class=\"dataframe\">\n",
       "  <thead>\n",
       "    <tr style=\"text-align: right;\">\n",
       "      <th></th>\n",
       "      <th>default</th>\n",
       "      <th>0</th>\n",
       "    </tr>\n",
       "  </thead>\n",
       "  <tbody>\n",
       "    <tr>\n",
       "      <th>0</th>\n",
       "      <td>1</td>\n",
       "      <td>0.671759</td>\n",
       "    </tr>\n",
       "    <tr>\n",
       "      <th>1</th>\n",
       "      <td>0</td>\n",
       "      <td>0.667230</td>\n",
       "    </tr>\n",
       "    <tr>\n",
       "      <th>2</th>\n",
       "      <td>1</td>\n",
       "      <td>0.419237</td>\n",
       "    </tr>\n",
       "    <tr>\n",
       "      <th>3</th>\n",
       "      <td>1</td>\n",
       "      <td>0.953556</td>\n",
       "    </tr>\n",
       "    <tr>\n",
       "      <th>4</th>\n",
       "      <td>0</td>\n",
       "      <td>0.388094</td>\n",
       "    </tr>\n",
       "  </tbody>\n",
       "</table>\n",
       "</div>"
      ],
      "text/plain": [
       "   default         0\n",
       "0        1  0.671759\n",
       "1        0  0.667230\n",
       "2        1  0.419237\n",
       "3        1  0.953556\n",
       "4        0  0.388094"
      ]
     },
     "execution_count": 47,
     "metadata": {},
     "output_type": "execute_result"
    }
   ],
   "source": [
    "df_prediccion.head()"
   ]
  },
  {
   "cell_type": "code",
   "execution_count": 48,
   "id": "7ee10f19-fcd0-414d-947a-0f31cf1f5627",
   "metadata": {
    "tags": []
   },
   "outputs": [],
   "source": [
    "df_prediccion.columns = [\"Real\", \"Probabilidad_Prediccion\"]"
   ]
  },
  {
   "cell_type": "code",
   "execution_count": 49,
   "id": "b946a28c-e0b9-437c-9782-2229f5009486",
   "metadata": {
    "tags": []
   },
   "outputs": [
    {
     "data": {
      "text/html": [
       "<div>\n",
       "<style scoped>\n",
       "    .dataframe tbody tr th:only-of-type {\n",
       "        vertical-align: middle;\n",
       "    }\n",
       "\n",
       "    .dataframe tbody tr th {\n",
       "        vertical-align: top;\n",
       "    }\n",
       "\n",
       "    .dataframe thead th {\n",
       "        text-align: right;\n",
       "    }\n",
       "</style>\n",
       "<table border=\"1\" class=\"dataframe\">\n",
       "  <thead>\n",
       "    <tr style=\"text-align: right;\">\n",
       "      <th></th>\n",
       "      <th>Real</th>\n",
       "      <th>Probabilidad_Prediccion</th>\n",
       "    </tr>\n",
       "  </thead>\n",
       "  <tbody>\n",
       "    <tr>\n",
       "      <th>0</th>\n",
       "      <td>1</td>\n",
       "      <td>0.671759</td>\n",
       "    </tr>\n",
       "    <tr>\n",
       "      <th>1</th>\n",
       "      <td>0</td>\n",
       "      <td>0.667230</td>\n",
       "    </tr>\n",
       "    <tr>\n",
       "      <th>2</th>\n",
       "      <td>1</td>\n",
       "      <td>0.419237</td>\n",
       "    </tr>\n",
       "    <tr>\n",
       "      <th>3</th>\n",
       "      <td>1</td>\n",
       "      <td>0.953556</td>\n",
       "    </tr>\n",
       "    <tr>\n",
       "      <th>4</th>\n",
       "      <td>0</td>\n",
       "      <td>0.388094</td>\n",
       "    </tr>\n",
       "  </tbody>\n",
       "</table>\n",
       "</div>"
      ],
      "text/plain": [
       "   Real  Probabilidad_Prediccion\n",
       "0     1                 0.671759\n",
       "1     0                 0.667230\n",
       "2     1                 0.419237\n",
       "3     1                 0.953556\n",
       "4     0                 0.388094"
      ]
     },
     "execution_count": 49,
     "metadata": {},
     "output_type": "execute_result"
    }
   ],
   "source": [
    "df_prediccion.head()"
   ]
  },
  {
   "cell_type": "code",
   "execution_count": 50,
   "id": "e4e19273-f3d4-4045-bb8e-ae5f36b6a0b3",
   "metadata": {
    "tags": []
   },
   "outputs": [],
   "source": [
    "df_prediccion.index = X_test.index"
   ]
  },
  {
   "cell_type": "code",
   "execution_count": 51,
   "id": "55664670-3752-49fc-9c96-a1a9c89aba96",
   "metadata": {
    "tags": []
   },
   "outputs": [
    {
     "data": {
      "text/html": [
       "<div>\n",
       "<style scoped>\n",
       "    .dataframe tbody tr th:only-of-type {\n",
       "        vertical-align: middle;\n",
       "    }\n",
       "\n",
       "    .dataframe tbody tr th {\n",
       "        vertical-align: top;\n",
       "    }\n",
       "\n",
       "    .dataframe thead th {\n",
       "        text-align: right;\n",
       "    }\n",
       "</style>\n",
       "<table border=\"1\" class=\"dataframe\">\n",
       "  <thead>\n",
       "    <tr style=\"text-align: right;\">\n",
       "      <th></th>\n",
       "      <th>Real</th>\n",
       "      <th>Probabilidad_Prediccion</th>\n",
       "    </tr>\n",
       "  </thead>\n",
       "  <tbody>\n",
       "    <tr>\n",
       "      <th>890</th>\n",
       "      <td>1</td>\n",
       "      <td>0.671759</td>\n",
       "    </tr>\n",
       "    <tr>\n",
       "      <th>983</th>\n",
       "      <td>0</td>\n",
       "      <td>0.667230</td>\n",
       "    </tr>\n",
       "    <tr>\n",
       "      <th>107</th>\n",
       "      <td>1</td>\n",
       "      <td>0.419237</td>\n",
       "    </tr>\n",
       "  </tbody>\n",
       "</table>\n",
       "</div>"
      ],
      "text/plain": [
       "     Real  Probabilidad_Prediccion\n",
       "890     1                 0.671759\n",
       "983     0                 0.667230\n",
       "107     1                 0.419237"
      ]
     },
     "execution_count": 51,
     "metadata": {},
     "output_type": "execute_result"
    }
   ],
   "source": [
    "df_prediccion.head(3)"
   ]
  },
  {
   "cell_type": "markdown",
   "id": "f99452e8-0ddb-4a32-9b88-4d882f8f9038",
   "metadata": {},
   "source": [
    "# How good is our model?"
   ]
  },
  {
   "cell_type": "code",
   "execution_count": 69,
   "id": "3ecd9171-9d9f-436c-9130-9961187fb367",
   "metadata": {
    "tags": []
   },
   "outputs": [],
   "source": [
    "punto_de_corte = 0.5"
   ]
  },
  {
   "cell_type": "code",
   "execution_count": 70,
   "id": "a6733266-c36d-4625-b14c-68408eca6439",
   "metadata": {
    "tags": []
   },
   "outputs": [],
   "source": [
    "df_prediccion[\"Prediccion\"] = np.where(df_prediccion[\"Probabilidad_Prediccion\"] > punto_de_corte, 1, 0)"
   ]
  },
  {
   "cell_type": "code",
   "execution_count": 71,
   "id": "01adcf5d-6c1b-4c6f-85e4-4128ebe8467a",
   "metadata": {
    "tags": []
   },
   "outputs": [
    {
     "data": {
      "text/html": [
       "<div>\n",
       "<style scoped>\n",
       "    .dataframe tbody tr th:only-of-type {\n",
       "        vertical-align: middle;\n",
       "    }\n",
       "\n",
       "    .dataframe tbody tr th {\n",
       "        vertical-align: top;\n",
       "    }\n",
       "\n",
       "    .dataframe thead th {\n",
       "        text-align: right;\n",
       "    }\n",
       "</style>\n",
       "<table border=\"1\" class=\"dataframe\">\n",
       "  <thead>\n",
       "    <tr style=\"text-align: right;\">\n",
       "      <th></th>\n",
       "      <th>Real</th>\n",
       "      <th>Probabilidad_Prediccion</th>\n",
       "      <th>Prediccion</th>\n",
       "    </tr>\n",
       "  </thead>\n",
       "  <tbody>\n",
       "    <tr>\n",
       "      <th>890</th>\n",
       "      <td>1</td>\n",
       "      <td>0.671759</td>\n",
       "      <td>1</td>\n",
       "    </tr>\n",
       "    <tr>\n",
       "      <th>983</th>\n",
       "      <td>0</td>\n",
       "      <td>0.667230</td>\n",
       "      <td>1</td>\n",
       "    </tr>\n",
       "    <tr>\n",
       "      <th>107</th>\n",
       "      <td>1</td>\n",
       "      <td>0.419237</td>\n",
       "      <td>0</td>\n",
       "    </tr>\n",
       "    <tr>\n",
       "      <th>609</th>\n",
       "      <td>1</td>\n",
       "      <td>0.953556</td>\n",
       "      <td>1</td>\n",
       "    </tr>\n",
       "    <tr>\n",
       "      <th>113</th>\n",
       "      <td>0</td>\n",
       "      <td>0.388094</td>\n",
       "      <td>0</td>\n",
       "    </tr>\n",
       "    <tr>\n",
       "      <th>...</th>\n",
       "      <td>...</td>\n",
       "      <td>...</td>\n",
       "      <td>...</td>\n",
       "    </tr>\n",
       "    <tr>\n",
       "      <th>681</th>\n",
       "      <td>1</td>\n",
       "      <td>0.950177</td>\n",
       "      <td>1</td>\n",
       "    </tr>\n",
       "    <tr>\n",
       "      <th>63</th>\n",
       "      <td>0</td>\n",
       "      <td>0.231612</td>\n",
       "      <td>0</td>\n",
       "    </tr>\n",
       "    <tr>\n",
       "      <th>152</th>\n",
       "      <td>1</td>\n",
       "      <td>0.784721</td>\n",
       "      <td>1</td>\n",
       "    </tr>\n",
       "    <tr>\n",
       "      <th>498</th>\n",
       "      <td>1</td>\n",
       "      <td>0.492762</td>\n",
       "      <td>0</td>\n",
       "    </tr>\n",
       "    <tr>\n",
       "      <th>618</th>\n",
       "      <td>0</td>\n",
       "      <td>0.695798</td>\n",
       "      <td>1</td>\n",
       "    </tr>\n",
       "  </tbody>\n",
       "</table>\n",
       "<p>100 rows × 3 columns</p>\n",
       "</div>"
      ],
      "text/plain": [
       "     Real  Probabilidad_Prediccion  Prediccion\n",
       "890     1                 0.671759           1\n",
       "983     0                 0.667230           1\n",
       "107     1                 0.419237           0\n",
       "609     1                 0.953556           1\n",
       "113     0                 0.388094           0\n",
       "..    ...                      ...         ...\n",
       "681     1                 0.950177           1\n",
       "63      0                 0.231612           0\n",
       "152     1                 0.784721           1\n",
       "498     1                 0.492762           0\n",
       "618     0                 0.695798           1\n",
       "\n",
       "[100 rows x 3 columns]"
      ]
     },
     "execution_count": 71,
     "metadata": {},
     "output_type": "execute_result"
    }
   ],
   "source": [
    "df_prediccion"
   ]
  },
  {
   "cell_type": "code",
   "execution_count": 72,
   "id": "e6f03c2d-b123-4932-8245-0fb0dbe1a18f",
   "metadata": {
    "tags": []
   },
   "outputs": [
    {
     "data": {
      "text/html": [
       "<div>\n",
       "<style scoped>\n",
       "    .dataframe tbody tr th:only-of-type {\n",
       "        vertical-align: middle;\n",
       "    }\n",
       "\n",
       "    .dataframe tbody tr th {\n",
       "        vertical-align: top;\n",
       "    }\n",
       "\n",
       "    .dataframe thead th {\n",
       "        text-align: right;\n",
       "    }\n",
       "</style>\n",
       "<table border=\"1\" class=\"dataframe\">\n",
       "  <thead>\n",
       "    <tr style=\"text-align: right;\">\n",
       "      <th>Predicciones</th>\n",
       "      <th>0</th>\n",
       "      <th>1</th>\n",
       "    </tr>\n",
       "    <tr>\n",
       "      <th>Valores Reales</th>\n",
       "      <th></th>\n",
       "      <th></th>\n",
       "    </tr>\n",
       "  </thead>\n",
       "  <tbody>\n",
       "    <tr>\n",
       "      <th>0</th>\n",
       "      <td>12</td>\n",
       "      <td>21</td>\n",
       "    </tr>\n",
       "    <tr>\n",
       "      <th>1</th>\n",
       "      <td>7</td>\n",
       "      <td>60</td>\n",
       "    </tr>\n",
       "  </tbody>\n",
       "</table>\n",
       "</div>"
      ],
      "text/plain": [
       "Predicciones     0   1\n",
       "Valores Reales        \n",
       "0               12  21\n",
       "1                7  60"
      ]
     },
     "execution_count": 72,
     "metadata": {},
     "output_type": "execute_result"
    }
   ],
   "source": [
    "pd.crosstab(df_prediccion[\"Real\"], df_prediccion[\"Prediccion\"], rownames=[\"Valores Reales\"], colnames=[\"Predicciones\"])"
   ]
  },
  {
   "cell_type": "markdown",
   "id": "c6c39603-0e96-40fb-8518-8f7baf0233e5",
   "metadata": {},
   "source": [
    "> True Positive - 60\n",
    "\n",
    "> False Positive - 21\n",
    "\n",
    "> True Negative - 12\n",
    "\n",
    "> False Negative - 7"
   ]
  },
  {
   "cell_type": "code",
   "execution_count": 73,
   "id": "6702b07d-2ae8-4e76-b760-d02563575b64",
   "metadata": {
    "tags": []
   },
   "outputs": [
    {
     "data": {
      "text/html": [
       "<div>\n",
       "<style scoped>\n",
       "    .dataframe tbody tr th:only-of-type {\n",
       "        vertical-align: middle;\n",
       "    }\n",
       "\n",
       "    .dataframe tbody tr th {\n",
       "        vertical-align: top;\n",
       "    }\n",
       "\n",
       "    .dataframe thead th {\n",
       "        text-align: right;\n",
       "    }\n",
       "</style>\n",
       "<table border=\"1\" class=\"dataframe\">\n",
       "  <thead>\n",
       "    <tr style=\"text-align: right;\">\n",
       "      <th>Predicciones</th>\n",
       "      <th>0</th>\n",
       "      <th>1</th>\n",
       "    </tr>\n",
       "    <tr>\n",
       "      <th>Valores Reales</th>\n",
       "      <th></th>\n",
       "      <th></th>\n",
       "    </tr>\n",
       "  </thead>\n",
       "  <tbody>\n",
       "    <tr>\n",
       "      <th>0</th>\n",
       "      <td>0.12</td>\n",
       "      <td>0.21</td>\n",
       "    </tr>\n",
       "    <tr>\n",
       "      <th>1</th>\n",
       "      <td>0.07</td>\n",
       "      <td>0.60</td>\n",
       "    </tr>\n",
       "  </tbody>\n",
       "</table>\n",
       "</div>"
      ],
      "text/plain": [
       "Predicciones       0     1\n",
       "Valores Reales            \n",
       "0               0.12  0.21\n",
       "1               0.07  0.60"
      ]
     },
     "execution_count": 73,
     "metadata": {},
     "output_type": "execute_result"
    }
   ],
   "source": [
    "pd.crosstab(df_prediccion[\"Real\"], df_prediccion[\"Prediccion\"], rownames=[\"Valores Reales\"], colnames=[\"Predicciones\"]) / df_prediccion.shape[0]"
   ]
  },
  {
   "cell_type": "markdown",
   "id": "8f5108e1-97a3-4826-9fbf-2d4da663d1d8",
   "metadata": {},
   "source": [
    "# ROC y AUC"
   ]
  },
  {
   "cell_type": "code",
   "execution_count": 83,
   "id": "94ce52db-9622-427e-838b-383994b3fed5",
   "metadata": {
    "tags": []
   },
   "outputs": [],
   "source": [
    "from sklearn.metrics import roc_curve, roc_auc_score"
   ]
  },
  {
   "cell_type": "code",
   "execution_count": 84,
   "id": "fc473d67-9f31-40b9-88cb-03ce9d432941",
   "metadata": {
    "tags": []
   },
   "outputs": [
    {
     "data": {
      "text/plain": [
       "(array([0.        , 0.        , 0.        , 0.03030303, 0.03030303,\n",
       "        0.06060606, 0.06060606, 0.09090909, 0.09090909, 0.12121212,\n",
       "        0.12121212, 0.15151515, 0.15151515, 0.18181818, 0.18181818,\n",
       "        0.21212121, 0.21212121, 0.27272727, 0.27272727, 0.3030303 ,\n",
       "        0.3030303 , 0.33333333, 0.33333333, 0.36363636, 0.36363636,\n",
       "        0.45454545, 0.45454545, 0.48484848, 0.48484848, 0.54545455,\n",
       "        0.54545455, 0.60606061, 0.60606061, 0.63636364, 0.63636364,\n",
       "        0.66666667, 0.66666667, 0.81818182, 0.81818182, 0.87878788,\n",
       "        0.87878788, 1.        ]),\n",
       " array([0.        , 0.01492537, 0.08955224, 0.08955224, 0.2238806 ,\n",
       "        0.2238806 , 0.43283582, 0.43283582, 0.46268657, 0.46268657,\n",
       "        0.50746269, 0.50746269, 0.6119403 , 0.6119403 , 0.67164179,\n",
       "        0.67164179, 0.70149254, 0.70149254, 0.71641791, 0.71641791,\n",
       "        0.74626866, 0.74626866, 0.7761194 , 0.7761194 , 0.79104478,\n",
       "        0.79104478, 0.82089552, 0.82089552, 0.8358209 , 0.8358209 ,\n",
       "        0.88059701, 0.88059701, 0.89552239, 0.89552239, 0.94029851,\n",
       "        0.94029851, 0.97014925, 0.97014925, 0.98507463, 0.98507463,\n",
       "        1.        , 1.        ]),\n",
       " array([1.96779821, 0.96779821, 0.95355568, 0.95257675, 0.92077813,\n",
       "        0.91536208, 0.8595385 , 0.85421573, 0.85041372, 0.84918143,\n",
       "        0.84425159, 0.84229185, 0.77580266, 0.76967652, 0.75000613,\n",
       "        0.74679609, 0.73948757, 0.71814645, 0.70692339, 0.69579781,\n",
       "        0.68907061, 0.68404533, 0.67175945, 0.66722999, 0.64206483,\n",
       "        0.63460335, 0.63026393, 0.61030628, 0.60989357, 0.58349041,\n",
       "        0.57349465, 0.54110241, 0.50300966, 0.50213092, 0.47047682,\n",
       "        0.44299247, 0.41923655, 0.36463038, 0.35291652, 0.33982474,\n",
       "        0.33043661, 0.19409743]))"
      ]
     },
     "execution_count": 84,
     "metadata": {},
     "output_type": "execute_result"
    }
   ],
   "source": [
    "roc_curve(df_prediccion[\"Real\"], df_prediccion[\"Probabilidad_Prediccion\"])"
   ]
  },
  {
   "cell_type": "code",
   "execution_count": 85,
   "id": "07e7db7d-ff74-4a02-abee-39ba99e8bd72",
   "metadata": {
    "tags": []
   },
   "outputs": [],
   "source": [
    "falsos_positivos, verdaderos_positivos, puntos_de_corte = roc_curve(df_prediccion[\"Real\"], df_prediccion[\"Probabilidad_Prediccion\"])"
   ]
  },
  {
   "cell_type": "code",
   "execution_count": 87,
   "id": "c80fd4c0-9e62-423f-8890-12781917a7f8",
   "metadata": {
    "tags": []
   },
   "outputs": [],
   "source": [
    "import matplotlib.pyplot as plt\n",
    "import seaborn as sns\n",
    "sns.set()"
   ]
  },
  {
   "cell_type": "code",
   "execution_count": 88,
   "id": "1aa1a2d1-3091-4ed5-b384-e11e61dbf7e2",
   "metadata": {
    "tags": []
   },
   "outputs": [
    {
     "data": {
      "text/plain": [
       "Text(0.5, 1.0, 'Curva ROC')"
      ]
     },
     "execution_count": 88,
     "metadata": {},
     "output_type": "execute_result"
    },
    {
     "data": {
      "image/png": "[encoded data removed]",
      "text/plain": [
       "<Figure size 432x288 with 1 Axes>"
      ]
     },
     "metadata": {
      "needs_background": "light"
     },
     "output_type": "display_data"
    }
   ],
   "source": [
    "plt.plot(falsos_positivos, verdaderos_positivos)\n",
    "plt.plot(falsos_positivos, falsos_positivos, linestyle='--', color='red')\n",
    "plt.xlabel(\"Tasa de Falsos Positivos\")\n",
    "plt.ylabel(\"Tasa de Verdaderos Positivos\")\n",
    "plt.title(\"Curva ROC\")"
   ]
  },
  {
   "cell_type": "code",
   "execution_count": 89,
   "id": "a09c2019-3aa7-4210-a521-b224554c44e2",
   "metadata": {
    "tags": []
   },
   "outputs": [],
   "source": [
    "AUC = roc_auc_score(df_prediccion[\"Real\"], df_prediccion[\"Probabilidad_Prediccion\"])"
   ]
  },
  {
   "cell_type": "code",
   "execution_count": 90,
   "id": "fb6329ea-cdba-48b6-b9cc-4415b8522442",
   "metadata": {
    "tags": []
   },
   "outputs": [
    {
     "data": {
      "text/plain": [
       "0.7856173677069199"
      ]
     },
     "execution_count": 90,
     "metadata": {},
     "output_type": "execute_result"
    }
   ],
   "source": [
    "AUC"
   ]
  },
  {
   "cell_type": "markdown",
   "id": "7f7fed98-1030-4d69-9d0d-023525d38bf1",
   "metadata": {},
   "source": [
    "# Gini & Kolmogorov-Smirnov"
   ]
  },
  {
   "cell_type": "code",
   "execution_count": 91,
   "id": "e644a6f0-cd20-417e-b12a-1f3fd578c709",
   "metadata": {
    "tags": []
   },
   "outputs": [],
   "source": [
    "df_prediccion = df_prediccion.sort_values(\"Probabilidad_Prediccion\")"
   ]
  },
  {
   "cell_type": "code",
   "execution_count": 94,
   "id": "ab085307-f994-4358-bb66-6003e1adcd5e",
   "metadata": {
    "tags": []
   },
   "outputs": [],
   "source": [
    "df_prediccion = df_prediccion.reset_index()"
   ]
  },
  {
   "cell_type": "code",
   "execution_count": 96,
   "id": "61101a25-6584-4e45-b1cf-30b14666a954",
   "metadata": {
    "tags": []
   },
   "outputs": [],
   "source": [
    "df_prediccion[\"Numero_acumulado_de_clientes\"] = df_prediccion.index + 1"
   ]
  },
  {
   "cell_type": "code",
   "execution_count": 97,
   "id": "83c00bd2-c712-4042-a8a7-6a4be378141a",
   "metadata": {
    "tags": []
   },
   "outputs": [],
   "source": [
    "df_prediccion[\"Numero_acumulado_de_clientes_buenos\"] = df_prediccion[\"Real\"].cumsum() "
   ]
  },
  {
   "cell_type": "code",
   "execution_count": 98,
   "id": "5c423698-c2e4-4439-a6d9-60d6c592b2b8",
   "metadata": {
    "tags": []
   },
   "outputs": [],
   "source": [
    "df_prediccion[\"Numero_acumulado_de_clientes_malos\"] = df_prediccion[\"Numero_acumulado_de_clientes\"] - df_prediccion[\"Numero_acumulado_de_clientes_buenos\"]"
   ]
  },
  {
   "cell_type": "code",
   "execution_count": 99,
   "id": "95f5bc94-3769-43c1-85c5-7df2b9f017ac",
   "metadata": {
    "tags": []
   },
   "outputs": [],
   "source": [
    "df_prediccion[\"% Acumulado Clientes\"] = df_prediccion[\"Numero_acumulado_de_clientes\"] / df_prediccion.shape[0]"
   ]
  },
  {
   "cell_type": "code",
   "execution_count": 100,
   "id": "0d6553a7-b51c-4acf-a429-c7f3212b53a9",
   "metadata": {
    "tags": []
   },
   "outputs": [],
   "source": [
    "df_prediccion[\"% Acumulado Clientes Buenos\"]  = df_prediccion[\"Numero_acumulado_de_clientes_buenos\"] / df_prediccion[\"Real\"].sum()"
   ]
  },
  {
   "cell_type": "code",
   "execution_count": 101,
   "id": "33a785ff-5d27-4f16-a9f8-84475f0f0c51",
   "metadata": {
    "tags": []
   },
   "outputs": [],
   "source": [
    "df_prediccion[\"% Acumulado Clientes Malos\"] = df_prediccion[\"Numero_acumulado_de_clientes_malos\"] / (df_prediccion.shape[0] - df_prediccion[\"Real\"].sum())"
   ]
  },
  {
   "cell_type": "code",
   "execution_count": 102,
   "id": "8441ad43-6c7d-43ed-81bf-08bf0872ad9a",
   "metadata": {
    "tags": []
   },
   "outputs": [
    {
     "data": {
      "text/html": [
       "<div>\n",
       "<style scoped>\n",
       "    .dataframe tbody tr th:only-of-type {\n",
       "        vertical-align: middle;\n",
       "    }\n",
       "\n",
       "    .dataframe tbody tr th {\n",
       "        vertical-align: top;\n",
       "    }\n",
       "\n",
       "    .dataframe thead th {\n",
       "        text-align: right;\n",
       "    }\n",
       "</style>\n",
       "<table border=\"1\" class=\"dataframe\">\n",
       "  <thead>\n",
       "    <tr style=\"text-align: right;\">\n",
       "      <th></th>\n",
       "      <th>index</th>\n",
       "      <th>Real</th>\n",
       "      <th>Probabilidad_Prediccion</th>\n",
       "      <th>Prediccion</th>\n",
       "      <th>Monto</th>\n",
       "      <th>Numero_acumulado_de_clientes</th>\n",
       "      <th>Numero_acumulado_de_clientes_buenos</th>\n",
       "      <th>Numero_acumulado_de_clientes_malos</th>\n",
       "      <th>% Acumulado Clientes</th>\n",
       "      <th>% Acumulado Clientes Buenos</th>\n",
       "      <th>% Acumulado Clientes Malos</th>\n",
       "    </tr>\n",
       "  </thead>\n",
       "  <tbody>\n",
       "    <tr>\n",
       "      <th>0</th>\n",
       "      <td>131</td>\n",
       "      <td>0</td>\n",
       "      <td>0.194097</td>\n",
       "      <td>0</td>\n",
       "      <td>6887</td>\n",
       "      <td>1</td>\n",
       "      <td>0</td>\n",
       "      <td>1</td>\n",
       "      <td>0.01</td>\n",
       "      <td>0.000000</td>\n",
       "      <td>0.030303</td>\n",
       "    </tr>\n",
       "    <tr>\n",
       "      <th>1</th>\n",
       "      <td>63</td>\n",
       "      <td>0</td>\n",
       "      <td>0.231612</td>\n",
       "      <td>0</td>\n",
       "      <td>14421</td>\n",
       "      <td>2</td>\n",
       "      <td>0</td>\n",
       "      <td>2</td>\n",
       "      <td>0.02</td>\n",
       "      <td>0.000000</td>\n",
       "      <td>0.060606</td>\n",
       "    </tr>\n",
       "    <tr>\n",
       "      <th>2</th>\n",
       "      <td>548</td>\n",
       "      <td>0</td>\n",
       "      <td>0.256039</td>\n",
       "      <td>0</td>\n",
       "      <td>626</td>\n",
       "      <td>3</td>\n",
       "      <td>0</td>\n",
       "      <td>3</td>\n",
       "      <td>0.03</td>\n",
       "      <td>0.000000</td>\n",
       "      <td>0.090909</td>\n",
       "    </tr>\n",
       "    <tr>\n",
       "      <th>3</th>\n",
       "      <td>958</td>\n",
       "      <td>0</td>\n",
       "      <td>0.269482</td>\n",
       "      <td>0</td>\n",
       "      <td>4006</td>\n",
       "      <td>4</td>\n",
       "      <td>0</td>\n",
       "      <td>4</td>\n",
       "      <td>0.04</td>\n",
       "      <td>0.000000</td>\n",
       "      <td>0.121212</td>\n",
       "    </tr>\n",
       "    <tr>\n",
       "      <th>4</th>\n",
       "      <td>954</td>\n",
       "      <td>1</td>\n",
       "      <td>0.330437</td>\n",
       "      <td>0</td>\n",
       "      <td>1893</td>\n",
       "      <td>5</td>\n",
       "      <td>1</td>\n",
       "      <td>4</td>\n",
       "      <td>0.05</td>\n",
       "      <td>0.014925</td>\n",
       "      <td>0.121212</td>\n",
       "    </tr>\n",
       "  </tbody>\n",
       "</table>\n",
       "</div>"
      ],
      "text/plain": [
       "   index  Real  Probabilidad_Prediccion  Prediccion  Monto  \\\n",
       "0    131     0                 0.194097           0   6887   \n",
       "1     63     0                 0.231612           0  14421   \n",
       "2    548     0                 0.256039           0    626   \n",
       "3    958     0                 0.269482           0   4006   \n",
       "4    954     1                 0.330437           0   1893   \n",
       "\n",
       "   Numero_acumulado_de_clientes  Numero_acumulado_de_clientes_buenos  \\\n",
       "0                             1                                    0   \n",
       "1                             2                                    0   \n",
       "2                             3                                    0   \n",
       "3                             4                                    0   \n",
       "4                             5                                    1   \n",
       "\n",
       "   Numero_acumulado_de_clientes_malos  % Acumulado Clientes  \\\n",
       "0                                   1                  0.01   \n",
       "1                                   2                  0.02   \n",
       "2                                   3                  0.03   \n",
       "3                                   4                  0.04   \n",
       "4                                   4                  0.05   \n",
       "\n",
       "   % Acumulado Clientes Buenos  % Acumulado Clientes Malos  \n",
       "0                     0.000000                    0.030303  \n",
       "1                     0.000000                    0.060606  \n",
       "2                     0.000000                    0.090909  \n",
       "3                     0.000000                    0.121212  \n",
       "4                     0.014925                    0.121212  "
      ]
     },
     "execution_count": 102,
     "metadata": {},
     "output_type": "execute_result"
    }
   ],
   "source": [
    "df_prediccion.head()"
   ]
  },
  {
   "cell_type": "code",
   "execution_count": 105,
   "id": "46e2ade2-9685-4ade-b985-1c0051eff2c2",
   "metadata": {
    "tags": []
   },
   "outputs": [
    {
     "data": {
      "text/plain": [
       "Text(0.5, 1.0, 'Curva de Gini')"
      ]
     },
     "execution_count": 105,
     "metadata": {},
     "output_type": "execute_result"
    },
    {
     "data": {
      "image/png": "[encoded data removed]",
      "text/plain": [
       "<Figure size 432x288 with 1 Axes>"
      ]
     },
     "metadata": {
      "needs_background": "light"
     },
     "output_type": "display_data"
    }
   ],
   "source": [
    "plt.plot(df_prediccion[\"% Acumulado Clientes\"], df_prediccion[\"% Acumulado Clientes Malos\"])\n",
    "plt.plot(df_prediccion[\"% Acumulado Clientes\"], df_prediccion[\"% Acumulado Clientes\"], linestyle='--', color='red')\n",
    "plt.xlabel(\"% Acumulado Total\")\n",
    "plt.ylabel(\"% Acumulado Clientes Malos\")\n",
    "plt.title(\"Curva de Gini\")"
   ]
  },
  {
   "cell_type": "code",
   "execution_count": 107,
   "id": "d91a8b7f-f164-4a24-9b3d-f2548bfc4d3a",
   "metadata": {
    "tags": []
   },
   "outputs": [
    {
     "data": {
      "text/plain": [
       "0.5712347354138398"
      ]
     },
     "execution_count": 107,
     "metadata": {},
     "output_type": "execute_result"
    }
   ],
   "source": [
    "Gini = AUC*2 - 1 \n",
    "Gini"
   ]
  },
  {
   "cell_type": "code",
   "execution_count": 108,
   "id": "e3015e09-303f-4b40-8ad1-7fad723d71dc",
   "metadata": {
    "tags": []
   },
   "outputs": [
    {
     "data": {
      "text/plain": [
       "Text(0.5, 1.0, 'Kolgomorov-Smirnov')"
      ]
     },
     "execution_count": 108,
     "metadata": {},
     "output_type": "execute_result"
    },
    {
     "data": {
      "image/png": "[encoded data removed]",
      "text/plain": [
       "<Figure size 432x288 with 1 Axes>"
      ]
     },
     "metadata": {
      "needs_background": "light"
     },
     "output_type": "display_data"
    }
   ],
   "source": [
    "plt.plot(df_prediccion['Probabilidad_Prediccion'], df_prediccion['% Acumulado Clientes Malos'], color = 'red')\n",
    "plt.plot(df_prediccion['Probabilidad_Prediccion'], df_prediccion['% Acumulado Clientes Buenos'], color = 'blue')\n",
    "plt.xlabel('Probabilidad Estimada de ser Buen Cliente')\n",
    "plt.ylabel('% Acumulado Acumulado')\n",
    "plt.title('Kolgomorov-Smirnov')"
   ]
  },
  {
   "cell_type": "code",
   "execution_count": 109,
   "id": "0b419ba2-17e7-45b1-827e-aad6e63f5805",
   "metadata": {
    "tags": []
   },
   "outputs": [
    {
     "data": {
      "text/plain": [
       "0.48982360922659435"
      ]
     },
     "execution_count": 109,
     "metadata": {},
     "output_type": "execute_result"
    }
   ],
   "source": [
    "Coef_KS = max(df_prediccion[\"% Acumulado Clientes Malos\"] - df_prediccion[\"% Acumulado Clientes Buenos\"])\n",
    "Coef_KS"
   ]
  },
  {
   "cell_type": "code",
   "execution_count": null,
   "id": "d3f69787-295f-45cc-956d-9c3d1a4a32c2",
   "metadata": {},
   "outputs": [],
   "source": []
  }
 ],
 "metadata": {
  "kernelspec": {
   "display_name": "Python 3",
   "language": "python",
   "name": "python3"
  },
  "language_info": {
   "codemirror_mode": {
    "name": "ipython",
    "version": 3
   },
   "file_extension": ".py",
   "mimetype": "text/x-python",
   "name": "python",
   "nbconvert_exporter": "python",
   "pygments_lexer": "ipython3",
   "version": "3.7.6"
  }
 },
 "nbformat": 4,
 "nbformat_minor": 5
}
