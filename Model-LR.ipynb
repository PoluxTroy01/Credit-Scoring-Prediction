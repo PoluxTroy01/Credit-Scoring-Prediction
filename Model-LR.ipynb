{
 "cells": [
  {
   "cell_type": "markdown",
   "id": "8bfe281e-8076-4f3e-a461-a30cc2993a2f",
   "metadata": {},
   "source": [
    "# Modelo de Probabilidad de Default (PD) - Logistic Regression"
   ]
  },
  {
   "cell_type": "code",
   "execution_count": 19,
   "id": "465f827b-bd0d-46e9-b942-4163ecb4d743",
   "metadata": {
    "tags": []
   },
   "outputs": [],
   "source": [
    "import pandas as pd\n",
    "import numpy as np\n",
    "pd.options.display.max_rows = None"
   ]
  },
  {
   "cell_type": "code",
   "execution_count": 3,
   "id": "c250c484-6e79-4c84-8621-8bceb5447708",
   "metadata": {},
   "outputs": [],
   "source": [
    "X_test = pd.read_csv(\"X_test.csv\", index_col=0)"
   ]
  },
  {
   "cell_type": "code",
   "execution_count": 4,
   "id": "760d7264-77f5-4c00-9021-8a91fb3b655f",
   "metadata": {
    "tags": []
   },
   "outputs": [],
   "source": [
    "X_train = pd.read_csv(\"X_train.csv\", index_col=0)"
   ]
  },
  {
   "cell_type": "code",
   "execution_count": 5,
   "id": "9a335cd1-40c7-4532-adc6-e0d93c26b823",
   "metadata": {
    "tags": []
   },
   "outputs": [],
   "source": [
    "y_test = pd.read_csv(\"y_test.csv\", index_col=0)"
   ]
  },
  {
   "cell_type": "code",
   "execution_count": 6,
   "id": "965ec8d9-1d0f-4896-94a8-99a530f71462",
   "metadata": {
    "tags": []
   },
   "outputs": [],
   "source": [
    "y_train = pd.read_csv(\"y_train.csv\", index_col=0)"
   ]
  },
  {
   "cell_type": "markdown",
   "id": "91c2bc32-6390-4d8e-8db8-647dc1898229",
   "metadata": {},
   "source": [
    "# Selecting only the variables for the model"
   ]
  },
  {
   "cell_type": "code",
   "execution_count": 10,
   "id": "4d5e89fa-f216-4a28-a8ff-3430ec4e36a1",
   "metadata": {
    "tags": []
   },
   "outputs": [
    {
     "data": {
      "text/plain": [
       "['account_check_status',\n",
       " 'duration_in_month',\n",
       " 'credit_history',\n",
       " 'purpose',\n",
       " 'credit_amount',\n",
       " 'savings',\n",
       " 'present_emp_since',\n",
       " 'installment_as_income_perc',\n",
       " 'personal_status_sex',\n",
       " 'other_debtors',\n",
       " 'present_res_since',\n",
       " 'property',\n",
       " 'age',\n",
       " 'other_installment_plans',\n",
       " 'housing',\n",
       " 'credits_this_bank',\n",
       " 'job',\n",
       " 'people_under_maintenance',\n",
       " 'telephone',\n",
       " 'foreign_worker',\n",
       " 'Account_check_0 <= ... < 200 DM',\n",
       " 'Account_check_< 0 DM',\n",
       " 'Account_check_>= 200 DM / salary assignments for at least 1 year',\n",
       " 'Account_check_no checking account',\n",
       " 'Credit_history_all credits at this bank paid back duly',\n",
       " 'Credit_history_critical account/ other credits existing (not at this bank)',\n",
       " 'Credit_history_delay in paying off in the past',\n",
       " 'Credit_history_existing credits paid back duly till now',\n",
       " 'Credit_history_no credits taken/ all credits paid back duly',\n",
       " 'Purpose_(vacation - does not exist?)',\n",
       " 'Purpose_business',\n",
       " 'Purpose_car (new)',\n",
       " 'Purpose_car (used)',\n",
       " 'Purpose_domestic appliances',\n",
       " 'Purpose_education',\n",
       " 'Purpose_furniture/equipment',\n",
       " 'Purpose_radio/television',\n",
       " 'Purpose_repairs',\n",
       " 'Purpose_retraining',\n",
       " 'Savings_.. >= 1000 DM ',\n",
       " 'Savings_... < 100 DM',\n",
       " 'Savings_100 <= ... < 500 DM',\n",
       " 'Savings_500 <= ... < 1000 DM ',\n",
       " 'Savings_unknown/ no savings account',\n",
       " 'Present_emp_since_.. >= 7 years',\n",
       " 'Present_emp_since_... < 1 year ',\n",
       " 'Present_emp_since_1 <= ... < 4 years',\n",
       " 'Present_emp_since_4 <= ... < 7 years',\n",
       " 'Present_emp_since_unemployed',\n",
       " 'Personal_status_sex_female : divorced/separated/married',\n",
       " 'Personal_status_sex_male : divorced/separated',\n",
       " 'Personal_status_sex_male : married/widowed',\n",
       " 'Personal_status_sex_male : single',\n",
       " 'Other_debtors_co-applicant',\n",
       " 'Other_debtors_guarantor',\n",
       " 'Other_debtors_none',\n",
       " 'Property_if not A121 : building society savings agreement/ life insurance',\n",
       " 'Property_if not A121/A122 : car or other, not in attribute 6',\n",
       " 'Property_real estate',\n",
       " 'Property_unknown / no property',\n",
       " 'Other_installment_plans_bank',\n",
       " 'Other_installment_plans_none',\n",
       " 'Other_installment_plans_stores',\n",
       " 'Housing_for free',\n",
       " 'Housing_own',\n",
       " 'Housing_rent',\n",
       " 'Job_management/ self-employed/ highly qualified employee/ officer',\n",
       " 'Job_skilled employee / official',\n",
       " 'Job_unemployed/ unskilled - non-resident',\n",
       " 'Job_unskilled - resident',\n",
       " 'Telephone_none',\n",
       " 'Telephone_yes, registered under the customers name ',\n",
       " 'Foreign_worker_no',\n",
       " 'Foreign_worker_yes',\n",
       " 'Account_check_status_first2',\n",
       " 'Account_check_status_last2',\n",
       " 'Credit_history_team1',\n",
       " 'Credit_history_team2',\n",
       " 'Purpose_vacation_forniture_education',\n",
       " 'Purpose_repairs_carUsed_retraining',\n",
       " 'Present_emp_since_unemployed_less1',\n",
       " 'Property_middle',\n",
       " 'Other_installment_plans_stores_bank',\n",
       " 'Housing_free_rent',\n",
       " 'Job_unemployed_unskilled',\n",
       " 'People_under_maintenance_2',\n",
       " 'People_under_maintenance_1',\n",
       " 'Credits_this_bank_1',\n",
       " 'Credits_this_bank_2',\n",
       " 'Credits_this_bank_3',\n",
       " 'Credits_this_bank_4',\n",
       " 'Age_categories',\n",
       " 'Age_1',\n",
       " 'Age_2',\n",
       " 'Age_3',\n",
       " 'Age_4',\n",
       " 'Age_5',\n",
       " 'Age_6',\n",
       " 'Duration_in_month_categories',\n",
       " 'Duration_in_month_1',\n",
       " 'Duration_in_month_2',\n",
       " 'Duration_in_month_3',\n",
       " 'Duration_in_month_4',\n",
       " 'Duration_in_month_5',\n",
       " 'Credit_amount_categories',\n",
       " 'Credit_amount_1',\n",
       " 'Credit_amount_2',\n",
       " 'Credit_amount_3',\n",
       " 'Installment_as_income_perc_1',\n",
       " 'Installment_as_income_perc_2',\n",
       " 'Installment_as_income_perc_3',\n",
       " 'Installment_as_income_perc_4',\n",
       " 'Present_res_since_1',\n",
       " 'Present_res_since_2',\n",
       " 'Present_res_since_3',\n",
       " 'Present_res_since_4']"
      ]
     },
     "execution_count": 10,
     "metadata": {},
     "output_type": "execute_result"
    }
   ],
   "source": [
    "list(X_train.columns)"
   ]
  },
  {
   "cell_type": "code",
   "execution_count": 14,
   "id": "2d67192a-cd4a-42b2-bad9-d9fa09ea973b",
   "metadata": {
    "tags": []
   },
   "outputs": [],
   "source": [
    "df_model = X_train.loc[:, [\"Account_check_status_first2\",\n",
    "                           \"Account_check_status_last2\",\n",
    "                           \"Credit_history_team1\",\n",
    "                           \"Credit_history_team2\",\n",
    "                           \"Credit_history_critical account/ other credits existing (not at this bank)\",\n",
    "                           \"Purpose_vacation_forniture_education\",\n",
    "                           \"Purpose_car (new)\",\n",
    "                           \"Purpose_business\",\n",
    "                           \"Purpose_radio/television\",\n",
    "                           \"Purpose_domestic appliances\",\n",
    "                           \"Purpose_repairs_carUsed_retraining\",\n",
    "                           \"Savings_... < 100 DM\",\n",
    "                           \"Savings_100 <= ... < 500 DM\",\n",
    "                           \"Savings_500 <= ... < 1000 DM \",\n",
    "                           \"Savings_unknown/ no savings account\",\n",
    "                           \"Savings_.. >= 1000 DM \",\n",
    "                           \"Present_emp_since_unemployed_less1\",\n",
    "                           \"Present_emp_since_1 <= ... < 4 years\",\n",
    "                           \"Present_emp_since_.. >= 7 years\",\n",
    "                           \"Present_emp_since_4 <= ... < 7 years\",\n",
    "                           \"Personal_status_sex_male : divorced/separated\",\n",
    "                           \"Personal_status_sex_female : divorced/separated/married\",\n",
    "                           \"Personal_status_sex_male : married/widowed\",\n",
    "                           \"Personal_status_sex_male : single\",\n",
    "                           \"Other_debtors_co-applicant\",\n",
    "                           \"Other_debtors_none\",\n",
    "                           \"Other_debtors_guarantor\",\n",
    "                           \"Property_unknown / no property\",\n",
    "                           \"Property_middle\",\n",
    "                           \"Property_real estate\",\n",
    "                           \"Other_installment_plans_stores_bank\",\n",
    "                           \"Other_installment_plans_none\",\n",
    "                           \"Housing_free_rent\",\n",
    "                           \"Housing_own\",\n",
    "                           \"Job_management/ self-employed/ highly qualified employee/ officer\",\n",
    "                           \"Job_skilled employee / official\",\n",
    "                           \"Job_unemployed_unskilled\",\n",
    "                           \"Telephone_none\",\n",
    "                           \"Telephone_yes, registered under the customers name \",\n",
    "                           \"Foreign_worker_yes\",\n",
    "                           \"Foreign_worker_no\",\n",
    "                           \"People_under_maintenance_2\",\n",
    "                           \"People_under_maintenance_1\",\n",
    "                           \"Credits_this_bank_1\",\n",
    "                           \"Credits_this_bank_2\",\n",
    "                           \"Credits_this_bank_3\",\n",
    "                           \"Credits_this_bank_4\",\n",
    "                           \"Age_1\",\n",
    "                           \"Age_2\",\n",
    "                           \"Age_3\",\n",
    "                           \"Age_4\",\n",
    "                           \"Age_5\",\n",
    "                           \"Age_6\",\n",
    "                           \"Duration_in_month_1\",\n",
    "                           \"Duration_in_month_2\",\n",
    "                           \"Duration_in_month_3\",\n",
    "                           \"Duration_in_month_4\",\n",
    "                           \"Duration_in_month_5\",\n",
    "                           \"Credit_amount_1\",\n",
    "                           \"Credit_amount_2\",\n",
    "                           \"Credit_amount_3\",\n",
    "                           \"Installment_as_income_perc_1\",\n",
    "                           \"Installment_as_income_perc_2\",\n",
    "                           \"Installment_as_income_perc_3\",\n",
    "                           \"Installment_as_income_perc_4\",\n",
    "                           \"Present_res_since_1\",\n",
    "                           \"Present_res_since_2\",\n",
    "                           \"Present_res_since_3\",\n",
    "                           \"Present_res_since_4\"]]"
   ]
  },
  {
   "cell_type": "code",
   "execution_count": 16,
   "id": "356bedd4-53ce-4115-9f90-03458e14e448",
   "metadata": {
    "tags": []
   },
   "outputs": [],
   "source": [
    "# We don´t need all the dummies related to every categorical variable so we need a second list\n",
    "categorias_referencia = [\"Account_check_status_first2\",\n",
    "                         \"Credit_history_team1\",\n",
    "                         \"Purpose_vacation_forniture_education\",\n",
    "                         \"Savings_... < 100 DM\",\n",
    "                         \"Present_emp_since_unemployed_less1\",\n",
    "                         \"Personal_status_sex_male : divorced/separated\",\n",
    "                         \"Other_debtors_co-applicant\",\n",
    "                         \"Property_unknown / no property\",\n",
    "                         \"Other_installment_plans_stores_bank\",\n",
    "                         \"Housing_free_rent\",\n",
    "                         \"Job_management/ self-employed/ highly qualified employee/ officer\",\n",
    "                         \"Telephone_none\",\n",
    "                         \"Foreign_worker_yes\",\n",
    "                         \"People_under_maintenance_1\",\n",
    "                         \"Credits_this_bank_4\",\n",
    "                         \"Age_1\",\n",
    "                         \"Duration_in_month_4\",\n",
    "                         \"Credit_amount_3\",\n",
    "                         \"Installment_as_income_perc_4\",\n",
    "                         \"Present_res_since_2\"]"
   ]
  },
  {
   "cell_type": "code",
   "execution_count": 21,
   "id": "de92e08f-09eb-4b39-9911-5628ff356764",
   "metadata": {
    "tags": []
   },
   "outputs": [],
   "source": [
    "X_entreno = df_model.drop(categorias_referencia, axis=1)"
   ]
  },
  {
   "cell_type": "code",
   "execution_count": 22,
   "id": "84f660e2-03f1-421d-8dce-814adccc1e5c",
   "metadata": {
    "tags": []
   },
   "outputs": [
    {
     "data": {
      "text/plain": [
       "(900, 49)"
      ]
     },
     "execution_count": 22,
     "metadata": {},
     "output_type": "execute_result"
    }
   ],
   "source": [
    "X_entreno.shape"
   ]
  },
  {
   "cell_type": "markdown",
   "id": "edeb04e3-ae14-41e0-b64b-988ccafe121e",
   "metadata": {},
   "source": [
    "# Model - Logistic Regression"
   ]
  },
  {
   "cell_type": "code",
   "execution_count": 23,
   "id": "a2e5fe8e-452d-47e6-bb47-7c45d0227687",
   "metadata": {
    "tags": []
   },
   "outputs": [],
   "source": [
    "from sklearn.linear_model import LogisticRegression\n",
    "from sklearn import metrics"
   ]
  },
  {
   "cell_type": "code",
   "execution_count": 24,
   "id": "7346504b-67cf-44cb-a3bc-4855b4ba72fe",
   "metadata": {
    "tags": []
   },
   "outputs": [],
   "source": [
    "regresion = LogisticRegression()"
   ]
  },
  {
   "cell_type": "code",
   "execution_count": 30,
   "id": "c171892d-24d2-4ee6-b9fb-65eb6d2e7251",
   "metadata": {
    "tags": []
   },
   "outputs": [
    {
     "name": "stderr",
     "output_type": "stream",
     "text": [
      "/opt/anaconda3/lib/python3.7/site-packages/sklearn/utils/validation.py:760: DataConversionWarning: A column-vector y was passed when a 1d array was expected. Please change the shape of y to (n_samples, ), for example using ravel().\n",
      "  y = column_or_1d(y, warn=True)\n"
     ]
    },
    {
     "data": {
      "text/plain": [
       "LogisticRegression(C=1.0, class_weight=None, dual=False, fit_intercept=True,\n",
       "                   intercept_scaling=1, l1_ratio=None, max_iter=100,\n",
       "                   multi_class='auto', n_jobs=None, penalty='l2',\n",
       "                   random_state=None, solver='lbfgs', tol=0.0001, verbose=0,\n",
       "                   warm_start=False)"
      ]
     },
     "execution_count": 30,
     "metadata": {},
     "output_type": "execute_result"
    }
   ],
   "source": [
    "regresion.fit(X_entreno, y_train)"
   ]
  },
  {
   "cell_type": "code",
   "execution_count": 32,
   "id": "a4981fe2-34dd-4331-baff-a43e49c97d40",
   "metadata": {
    "tags": []
   },
   "outputs": [
    {
     "data": {
      "text/plain": [
       "array(['Account_check_status_last2', 'Credit_history_team2',\n",
       "       'Credit_history_critical account/ other credits existing (not at this bank)',\n",
       "       'Purpose_car (new)', 'Purpose_business',\n",
       "       'Purpose_radio/television', 'Purpose_domestic appliances',\n",
       "       'Purpose_repairs_carUsed_retraining',\n",
       "       'Savings_100 <= ... < 500 DM', 'Savings_500 <= ... < 1000 DM ',\n",
       "       'Savings_unknown/ no savings account', 'Savings_.. >= 1000 DM ',\n",
       "       'Present_emp_since_1 <= ... < 4 years',\n",
       "       'Present_emp_since_.. >= 7 years',\n",
       "       'Present_emp_since_4 <= ... < 7 years',\n",
       "       'Personal_status_sex_female : divorced/separated/married',\n",
       "       'Personal_status_sex_male : married/widowed',\n",
       "       'Personal_status_sex_male : single', 'Other_debtors_none',\n",
       "       'Other_debtors_guarantor', 'Property_middle',\n",
       "       'Property_real estate', 'Other_installment_plans_none',\n",
       "       'Housing_own', 'Job_skilled employee / official',\n",
       "       'Job_unemployed_unskilled',\n",
       "       'Telephone_yes, registered under the customers name ',\n",
       "       'Foreign_worker_no', 'People_under_maintenance_2',\n",
       "       'Credits_this_bank_1', 'Credits_this_bank_2',\n",
       "       'Credits_this_bank_3', 'Age_2', 'Age_3', 'Age_4', 'Age_5', 'Age_6',\n",
       "       'Duration_in_month_1', 'Duration_in_month_2',\n",
       "       'Duration_in_month_3', 'Duration_in_month_5', 'Credit_amount_1',\n",
       "       'Credit_amount_2', 'Installment_as_income_perc_1',\n",
       "       'Installment_as_income_perc_2', 'Installment_as_income_perc_3',\n",
       "       'Present_res_since_1', 'Present_res_since_3',\n",
       "       'Present_res_since_4'], dtype=object)"
      ]
     },
     "execution_count": 32,
     "metadata": {},
     "output_type": "execute_result"
    }
   ],
   "source": [
    "nombres_var_independientes = X_entreno.columns.values\n",
    "nombres_var_independientes"
   ]
  },
  {
   "cell_type": "code",
   "execution_count": 33,
   "id": "2ac11210-81cc-4a7b-bbc1-5c520592a383",
   "metadata": {
    "tags": []
   },
   "outputs": [],
   "source": [
    "tabla_resultados = pd.DataFrame(columns = [\"Variable Independiente\"], data=nombres_var_independientes)"
   ]
  },
  {
   "cell_type": "code",
   "execution_count": 35,
   "id": "2c6aefba-9a1f-4f1b-ac90-825e7c5060a6",
   "metadata": {
    "tags": []
   },
   "outputs": [],
   "source": [
    "tabla_resultados[\"Coeficientes\"] = np.transpose(regresion.coef_)"
   ]
  },
  {
   "cell_type": "code",
   "execution_count": 39,
   "id": "67e4f6e2-2246-4390-bf78-ea29251a63d4",
   "metadata": {
    "tags": []
   },
   "outputs": [],
   "source": [
    "tabla_resultados.index = tabla_resultados.index + 1 "
   ]
  },
  {
   "cell_type": "code",
   "execution_count": 41,
   "id": "00c27c85-e865-4254-9b1b-379d63468b7b",
   "metadata": {
    "tags": []
   },
   "outputs": [],
   "source": [
    "tabla_resultados.loc[0] = [\"Intercept\", regresion.intercept_[0]]"
   ]
  },
  {
   "cell_type": "code",
   "execution_count": 43,
   "id": "dc37a6fd-d5a3-49b9-b9a5-d352f1460010",
   "metadata": {
    "tags": []
   },
   "outputs": [],
   "source": [
    "tabla_resultados = tabla_resultados.sort_index()"
   ]
  },
  {
   "cell_type": "markdown",
   "id": "50f4b352-45bd-48d5-a7f3-aa659554467f",
   "metadata": {},
   "source": [
    "# Estimating p-values"
   ]
  },
  {
   "cell_type": "code",
   "execution_count": 44,
   "id": "c2b9d79e-9226-4afb-b7f5-a5acca7dd479",
   "metadata": {
    "tags": []
   },
   "outputs": [],
   "source": [
    "from sklearn import linear_model\n",
    "import numpy as np\n",
    "import scipy.stats as stat\n",
    "\n",
    "class RegresionLogistica_con_p_values:\n",
    "    \"\"\"\n",
    "    Wrapper Class for Logistic Regression which has the usual sklearn instance \n",
    "    in an attribute self.model, and pvalues, z scores and estimated \n",
    "    errors for each coefficient in \n",
    "    \n",
    "    self.z_scores\n",
    "    self.p_values\n",
    "    self.sigma_estimates\n",
    "    \n",
    "    as well as the negative hessian of the log Likelihood (Fisher information)\n",
    "    \n",
    "    self.F_ij\n",
    "    \"\"\"\n",
    "    \n",
    "    def __init__(self,*args,**kwargs):#,**kwargs):\n",
    "        self.model = linear_model.LogisticRegression(*args,**kwargs, solver = 'newton-cg')#,**args)\n",
    "\n",
    "    def fit(self,X,y):\n",
    "        self.model.fit(X,y)\n",
    "        #### Get p-values for the fitted model ####\n",
    "        denom = (2.0*(1.0+np.cosh(self.model.decision_function(X))))\n",
    "        denom = np.tile(denom,(X.shape[1],1)).T\n",
    "        F_ij = np.dot((X/denom).T,X) ## Fisher Information Matrix\n",
    "        Cramer_Rao = np.linalg.inv(F_ij) ## Inverse Information Matrix\n",
    "        sigma_estimates = np.sqrt(np.diagonal(Cramer_Rao))\n",
    "        z_scores = self.model.coef_[0]/sigma_estimates # z-score for eaach model coefficient\n",
    "        p_values = [stat.norm.sf(abs(x))*2 for x in z_scores] ### two tailed test for p-values\n",
    "        \n",
    "        self.z_scores = z_scores\n",
    "        self.p_values = p_values\n",
    "        self.sigma_estimates = sigma_estimates\n",
    "        self.F_ij = F_ij"
   ]
  },
  {
   "cell_type": "code",
   "execution_count": 45,
   "id": "b40a7fdb-a0a3-4b5f-b6d4-ab9fe9e60446",
   "metadata": {
    "tags": []
   },
   "outputs": [],
   "source": [
    "reglogistica_p_values = RegresionLogistica_con_p_values()"
   ]
  },
  {
   "cell_type": "code",
   "execution_count": 46,
   "id": "de8a4adf-7cc3-48dd-ade7-fb18eaf7b0c3",
   "metadata": {
    "tags": []
   },
   "outputs": [],
   "source": [
    "reglogistica_p_values.fit(X_entreno, y_train.values.ravel())"
   ]
  },
  {
   "cell_type": "code",
   "execution_count": 47,
   "id": "9fa3c310-fc35-42f7-8a27-4b3fd9ca08a8",
   "metadata": {
    "tags": []
   },
   "outputs": [],
   "source": [
    "p_values = reglogistica_p_values.p_values"
   ]
  },
  {
   "cell_type": "code",
   "execution_count": 49,
   "id": "8fe3a6f8-0e1e-4d12-b677-d8a69b384c1b",
   "metadata": {
    "tags": []
   },
   "outputs": [],
   "source": [
    "p_values = np.append(np.nan, np.array(p_values))"
   ]
  },
  {
   "cell_type": "code",
   "execution_count": 50,
   "id": "9714ddd0-5133-4399-ac09-55b2e68b01f3",
   "metadata": {
    "tags": []
   },
   "outputs": [
    {
     "data": {
      "text/plain": [
       "array([           nan, 1.76193643e-11, 7.39570060e-02, 3.23932095e-04,\n",
       "       3.44229798e-01, 4.29049164e-01, 4.67657951e-01, 2.04303571e-01,\n",
       "       3.75067789e-03, 1.59863898e-01, 2.81948899e-01, 3.71882330e-04,\n",
       "       2.20799737e-02, 3.06291812e-01, 3.50190247e-01, 4.50975132e-02,\n",
       "       6.20072353e-01, 4.86598501e-01, 2.28003335e-02, 8.77095043e-01,\n",
       "       1.06937479e-01, 5.70785093e-01, 1.70694397e-01, 1.53072019e-02,\n",
       "       8.61536511e-02, 6.18214175e-01, 9.73865351e-01, 7.44176996e-02,\n",
       "       2.34572868e-01, 2.62114442e-01, 7.98273459e-01, 9.14549472e-01,\n",
       "       8.23657076e-01, 7.36604792e-01, 4.05981953e-01, 7.39939351e-01,\n",
       "       7.60100158e-01, 8.68291109e-01, 1.55080622e-01, 4.04102035e-01,\n",
       "       9.56343480e-01, 9.51278019e-01, 6.04587156e-03, 2.32580997e-01,\n",
       "       3.53770444e-03, 1.51769288e-03, 1.96825990e-01, 4.53261540e-02,\n",
       "       3.66771973e-01, 7.69771799e-02])"
      ]
     },
     "execution_count": 50,
     "metadata": {},
     "output_type": "execute_result"
    }
   ],
   "source": [
    "p_values"
   ]
  },
  {
   "cell_type": "code",
   "execution_count": 51,
   "id": "c731158a-6037-4f6e-9787-e7b1a53cfc6b",
   "metadata": {
    "tags": []
   },
   "outputs": [],
   "source": [
    "tabla_resultados[\"p_values\"] = p_values"
   ]
  },
  {
   "cell_type": "code",
   "execution_count": 52,
   "id": "be8cc9c8-ce5f-4771-ba50-b7c0c4f55b5e",
   "metadata": {
    "tags": []
   },
   "outputs": [
    {
     "data": {
      "text/html": [
       "<div>\n",
       "<style scoped>\n",
       "    .dataframe tbody tr th:only-of-type {\n",
       "        vertical-align: middle;\n",
       "    }\n",
       "\n",
       "    .dataframe tbody tr th {\n",
       "        vertical-align: top;\n",
       "    }\n",
       "\n",
       "    .dataframe thead th {\n",
       "        text-align: right;\n",
       "    }\n",
       "</style>\n",
       "<table border=\"1\" class=\"dataframe\">\n",
       "  <thead>\n",
       "    <tr style=\"text-align: right;\">\n",
       "      <th></th>\n",
       "      <th>Variable Independiente</th>\n",
       "      <th>Coeficientes</th>\n",
       "      <th>p_values</th>\n",
       "    </tr>\n",
       "  </thead>\n",
       "  <tbody>\n",
       "    <tr>\n",
       "      <th>0</th>\n",
       "      <td>Intercept</td>\n",
       "      <td>-4.815847</td>\n",
       "      <td>NaN</td>\n",
       "    </tr>\n",
       "    <tr>\n",
       "      <th>1</th>\n",
       "      <td>Account_check_status_last2</td>\n",
       "      <td>1.321375</td>\n",
       "      <td>1.761936e-11</td>\n",
       "    </tr>\n",
       "    <tr>\n",
       "      <th>2</th>\n",
       "      <td>Credit_history_team2</td>\n",
       "      <td>0.530515</td>\n",
       "      <td>7.395701e-02</td>\n",
       "    </tr>\n",
       "    <tr>\n",
       "      <th>3</th>\n",
       "      <td>Credit_history_critical account/ other credits...</td>\n",
       "      <td>1.263540</td>\n",
       "      <td>3.239321e-04</td>\n",
       "    </tr>\n",
       "    <tr>\n",
       "      <th>4</th>\n",
       "      <td>Purpose_car (new)</td>\n",
       "      <td>-0.304428</td>\n",
       "      <td>3.442298e-01</td>\n",
       "    </tr>\n",
       "    <tr>\n",
       "      <th>5</th>\n",
       "      <td>Purpose_business</td>\n",
       "      <td>0.312676</td>\n",
       "      <td>4.290492e-01</td>\n",
       "    </tr>\n",
       "    <tr>\n",
       "      <th>6</th>\n",
       "      <td>Purpose_radio/television</td>\n",
       "      <td>0.246750</td>\n",
       "      <td>4.676580e-01</td>\n",
       "    </tr>\n",
       "    <tr>\n",
       "      <th>7</th>\n",
       "      <td>Purpose_domestic appliances</td>\n",
       "      <td>0.417714</td>\n",
       "      <td>2.043036e-01</td>\n",
       "    </tr>\n",
       "    <tr>\n",
       "      <th>8</th>\n",
       "      <td>Purpose_repairs_carUsed_retraining</td>\n",
       "      <td>1.186932</td>\n",
       "      <td>3.750678e-03</td>\n",
       "    </tr>\n",
       "    <tr>\n",
       "      <th>9</th>\n",
       "      <td>Savings_100 &lt;= ... &lt; 500 DM</td>\n",
       "      <td>0.406965</td>\n",
       "      <td>1.598639e-01</td>\n",
       "    </tr>\n",
       "    <tr>\n",
       "      <th>10</th>\n",
       "      <td>Savings_500 &lt;= ... &lt; 1000 DM</td>\n",
       "      <td>0.433968</td>\n",
       "      <td>2.819489e-01</td>\n",
       "    </tr>\n",
       "    <tr>\n",
       "      <th>11</th>\n",
       "      <td>Savings_unknown/ no savings account</td>\n",
       "      <td>0.959420</td>\n",
       "      <td>3.718823e-04</td>\n",
       "    </tr>\n",
       "    <tr>\n",
       "      <th>12</th>\n",
       "      <td>Savings_.. &gt;= 1000 DM</td>\n",
       "      <td>1.124555</td>\n",
       "      <td>2.207997e-02</td>\n",
       "    </tr>\n",
       "    <tr>\n",
       "      <th>13</th>\n",
       "      <td>Present_emp_since_1 &lt;= ... &lt; 4 years</td>\n",
       "      <td>0.240308</td>\n",
       "      <td>3.062918e-01</td>\n",
       "    </tr>\n",
       "    <tr>\n",
       "      <th>14</th>\n",
       "      <td>Present_emp_since_.. &gt;= 7 years</td>\n",
       "      <td>0.259923</td>\n",
       "      <td>3.501902e-01</td>\n",
       "    </tr>\n",
       "    <tr>\n",
       "      <th>15</th>\n",
       "      <td>Present_emp_since_4 &lt;= ... &lt; 7 years</td>\n",
       "      <td>0.579712</td>\n",
       "      <td>4.509751e-02</td>\n",
       "    </tr>\n",
       "    <tr>\n",
       "      <th>16</th>\n",
       "      <td>Personal_status_sex_female : divorced/separate...</td>\n",
       "      <td>0.190177</td>\n",
       "      <td>6.200724e-01</td>\n",
       "    </tr>\n",
       "    <tr>\n",
       "      <th>17</th>\n",
       "      <td>Personal_status_sex_male : married/widowed</td>\n",
       "      <td>0.320338</td>\n",
       "      <td>4.865985e-01</td>\n",
       "    </tr>\n",
       "    <tr>\n",
       "      <th>18</th>\n",
       "      <td>Personal_status_sex_male : single</td>\n",
       "      <td>0.855076</td>\n",
       "      <td>2.280033e-02</td>\n",
       "    </tr>\n",
       "    <tr>\n",
       "      <th>19</th>\n",
       "      <td>Other_debtors_none</td>\n",
       "      <td>0.064310</td>\n",
       "      <td>8.770950e-01</td>\n",
       "    </tr>\n",
       "    <tr>\n",
       "      <th>20</th>\n",
       "      <td>Other_debtors_guarantor</td>\n",
       "      <td>0.957531</td>\n",
       "      <td>1.069375e-01</td>\n",
       "    </tr>\n",
       "    <tr>\n",
       "      <th>21</th>\n",
       "      <td>Property_middle</td>\n",
       "      <td>0.165696</td>\n",
       "      <td>5.707851e-01</td>\n",
       "    </tr>\n",
       "    <tr>\n",
       "      <th>22</th>\n",
       "      <td>Property_real estate</td>\n",
       "      <td>0.465873</td>\n",
       "      <td>1.706944e-01</td>\n",
       "    </tr>\n",
       "    <tr>\n",
       "      <th>23</th>\n",
       "      <td>Other_installment_plans_none</td>\n",
       "      <td>0.533758</td>\n",
       "      <td>1.530720e-02</td>\n",
       "    </tr>\n",
       "    <tr>\n",
       "      <th>24</th>\n",
       "      <td>Housing_own</td>\n",
       "      <td>0.386188</td>\n",
       "      <td>8.615365e-02</td>\n",
       "    </tr>\n",
       "    <tr>\n",
       "      <th>25</th>\n",
       "      <td>Job_skilled employee / official</td>\n",
       "      <td>-0.139341</td>\n",
       "      <td>6.182142e-01</td>\n",
       "    </tr>\n",
       "    <tr>\n",
       "      <th>26</th>\n",
       "      <td>Job_unemployed_unskilled</td>\n",
       "      <td>0.011004</td>\n",
       "      <td>9.738654e-01</td>\n",
       "    </tr>\n",
       "    <tr>\n",
       "      <th>27</th>\n",
       "      <td>Telephone_yes, registered under the customers ...</td>\n",
       "      <td>0.368152</td>\n",
       "      <td>7.441770e-02</td>\n",
       "    </tr>\n",
       "    <tr>\n",
       "      <th>28</th>\n",
       "      <td>Foreign_worker_no</td>\n",
       "      <td>0.708087</td>\n",
       "      <td>2.345729e-01</td>\n",
       "    </tr>\n",
       "    <tr>\n",
       "      <th>29</th>\n",
       "      <td>People_under_maintenance_2</td>\n",
       "      <td>-0.300477</td>\n",
       "      <td>2.621144e-01</td>\n",
       "    </tr>\n",
       "    <tr>\n",
       "      <th>30</th>\n",
       "      <td>Credits_this_bank_1</td>\n",
       "      <td>0.177317</td>\n",
       "      <td>7.982735e-01</td>\n",
       "    </tr>\n",
       "    <tr>\n",
       "      <th>31</th>\n",
       "      <td>Credits_this_bank_2</td>\n",
       "      <td>0.075534</td>\n",
       "      <td>9.145495e-01</td>\n",
       "    </tr>\n",
       "    <tr>\n",
       "      <th>32</th>\n",
       "      <td>Credits_this_bank_3</td>\n",
       "      <td>0.205089</td>\n",
       "      <td>8.236571e-01</td>\n",
       "    </tr>\n",
       "    <tr>\n",
       "      <th>33</th>\n",
       "      <td>Age_2</td>\n",
       "      <td>0.075911</td>\n",
       "      <td>7.366048e-01</td>\n",
       "    </tr>\n",
       "    <tr>\n",
       "      <th>34</th>\n",
       "      <td>Age_3</td>\n",
       "      <td>0.242324</td>\n",
       "      <td>4.059820e-01</td>\n",
       "    </tr>\n",
       "    <tr>\n",
       "      <th>35</th>\n",
       "      <td>Age_4</td>\n",
       "      <td>-0.134801</td>\n",
       "      <td>7.399394e-01</td>\n",
       "    </tr>\n",
       "    <tr>\n",
       "      <th>36</th>\n",
       "      <td>Age_5</td>\n",
       "      <td>0.148667</td>\n",
       "      <td>7.601002e-01</td>\n",
       "    </tr>\n",
       "    <tr>\n",
       "      <th>37</th>\n",
       "      <td>Age_6</td>\n",
       "      <td>0.208315</td>\n",
       "      <td>8.682911e-01</td>\n",
       "    </tr>\n",
       "    <tr>\n",
       "      <th>38</th>\n",
       "      <td>Duration_in_month_1</td>\n",
       "      <td>0.573727</td>\n",
       "      <td>1.550806e-01</td>\n",
       "    </tr>\n",
       "    <tr>\n",
       "      <th>39</th>\n",
       "      <td>Duration_in_month_2</td>\n",
       "      <td>0.311704</td>\n",
       "      <td>4.041020e-01</td>\n",
       "    </tr>\n",
       "    <tr>\n",
       "      <th>40</th>\n",
       "      <td>Duration_in_month_3</td>\n",
       "      <td>0.021241</td>\n",
       "      <td>9.563435e-01</td>\n",
       "    </tr>\n",
       "    <tr>\n",
       "      <th>41</th>\n",
       "      <td>Duration_in_month_5</td>\n",
       "      <td>0.044338</td>\n",
       "      <td>9.512780e-01</td>\n",
       "    </tr>\n",
       "    <tr>\n",
       "      <th>42</th>\n",
       "      <td>Credit_amount_1</td>\n",
       "      <td>1.322748</td>\n",
       "      <td>6.045872e-03</td>\n",
       "    </tr>\n",
       "    <tr>\n",
       "      <th>43</th>\n",
       "      <td>Credit_amount_2</td>\n",
       "      <td>0.525169</td>\n",
       "      <td>2.325810e-01</td>\n",
       "    </tr>\n",
       "    <tr>\n",
       "      <th>44</th>\n",
       "      <td>Installment_as_income_perc_1</td>\n",
       "      <td>0.849171</td>\n",
       "      <td>3.537704e-03</td>\n",
       "    </tr>\n",
       "    <tr>\n",
       "      <th>45</th>\n",
       "      <td>Installment_as_income_perc_2</td>\n",
       "      <td>0.754297</td>\n",
       "      <td>1.517693e-03</td>\n",
       "    </tr>\n",
       "    <tr>\n",
       "      <th>46</th>\n",
       "      <td>Installment_as_income_perc_3</td>\n",
       "      <td>0.337753</td>\n",
       "      <td>1.968260e-01</td>\n",
       "    </tr>\n",
       "    <tr>\n",
       "      <th>47</th>\n",
       "      <td>Present_res_since_1</td>\n",
       "      <td>0.593209</td>\n",
       "      <td>4.532615e-02</td>\n",
       "    </tr>\n",
       "    <tr>\n",
       "      <th>48</th>\n",
       "      <td>Present_res_since_3</td>\n",
       "      <td>0.255208</td>\n",
       "      <td>3.667720e-01</td>\n",
       "    </tr>\n",
       "    <tr>\n",
       "      <th>49</th>\n",
       "      <td>Present_res_since_4</td>\n",
       "      <td>0.410749</td>\n",
       "      <td>7.697718e-02</td>\n",
       "    </tr>\n",
       "  </tbody>\n",
       "</table>\n",
       "</div>"
      ],
      "text/plain": [
       "                               Variable Independiente  Coeficientes  \\\n",
       "0                                           Intercept     -4.815847   \n",
       "1                          Account_check_status_last2      1.321375   \n",
       "2                                Credit_history_team2      0.530515   \n",
       "3   Credit_history_critical account/ other credits...      1.263540   \n",
       "4                                   Purpose_car (new)     -0.304428   \n",
       "5                                    Purpose_business      0.312676   \n",
       "6                            Purpose_radio/television      0.246750   \n",
       "7                         Purpose_domestic appliances      0.417714   \n",
       "8                  Purpose_repairs_carUsed_retraining      1.186932   \n",
       "9                         Savings_100 <= ... < 500 DM      0.406965   \n",
       "10                      Savings_500 <= ... < 1000 DM       0.433968   \n",
       "11                Savings_unknown/ no savings account      0.959420   \n",
       "12                             Savings_.. >= 1000 DM       1.124555   \n",
       "13               Present_emp_since_1 <= ... < 4 years      0.240308   \n",
       "14                    Present_emp_since_.. >= 7 years      0.259923   \n",
       "15               Present_emp_since_4 <= ... < 7 years      0.579712   \n",
       "16  Personal_status_sex_female : divorced/separate...      0.190177   \n",
       "17         Personal_status_sex_male : married/widowed      0.320338   \n",
       "18                  Personal_status_sex_male : single      0.855076   \n",
       "19                                 Other_debtors_none      0.064310   \n",
       "20                            Other_debtors_guarantor      0.957531   \n",
       "21                                    Property_middle      0.165696   \n",
       "22                               Property_real estate      0.465873   \n",
       "23                       Other_installment_plans_none      0.533758   \n",
       "24                                        Housing_own      0.386188   \n",
       "25                    Job_skilled employee / official     -0.139341   \n",
       "26                           Job_unemployed_unskilled      0.011004   \n",
       "27  Telephone_yes, registered under the customers ...      0.368152   \n",
       "28                                  Foreign_worker_no      0.708087   \n",
       "29                         People_under_maintenance_2     -0.300477   \n",
       "30                                Credits_this_bank_1      0.177317   \n",
       "31                                Credits_this_bank_2      0.075534   \n",
       "32                                Credits_this_bank_3      0.205089   \n",
       "33                                              Age_2      0.075911   \n",
       "34                                              Age_3      0.242324   \n",
       "35                                              Age_4     -0.134801   \n",
       "36                                              Age_5      0.148667   \n",
       "37                                              Age_6      0.208315   \n",
       "38                                Duration_in_month_1      0.573727   \n",
       "39                                Duration_in_month_2      0.311704   \n",
       "40                                Duration_in_month_3      0.021241   \n",
       "41                                Duration_in_month_5      0.044338   \n",
       "42                                    Credit_amount_1      1.322748   \n",
       "43                                    Credit_amount_2      0.525169   \n",
       "44                       Installment_as_income_perc_1      0.849171   \n",
       "45                       Installment_as_income_perc_2      0.754297   \n",
       "46                       Installment_as_income_perc_3      0.337753   \n",
       "47                                Present_res_since_1      0.593209   \n",
       "48                                Present_res_since_3      0.255208   \n",
       "49                                Present_res_since_4      0.410749   \n",
       "\n",
       "        p_values  \n",
       "0            NaN  \n",
       "1   1.761936e-11  \n",
       "2   7.395701e-02  \n",
       "3   3.239321e-04  \n",
       "4   3.442298e-01  \n",
       "5   4.290492e-01  \n",
       "6   4.676580e-01  \n",
       "7   2.043036e-01  \n",
       "8   3.750678e-03  \n",
       "9   1.598639e-01  \n",
       "10  2.819489e-01  \n",
       "11  3.718823e-04  \n",
       "12  2.207997e-02  \n",
       "13  3.062918e-01  \n",
       "14  3.501902e-01  \n",
       "15  4.509751e-02  \n",
       "16  6.200724e-01  \n",
       "17  4.865985e-01  \n",
       "18  2.280033e-02  \n",
       "19  8.770950e-01  \n",
       "20  1.069375e-01  \n",
       "21  5.707851e-01  \n",
       "22  1.706944e-01  \n",
       "23  1.530720e-02  \n",
       "24  8.615365e-02  \n",
       "25  6.182142e-01  \n",
       "26  9.738654e-01  \n",
       "27  7.441770e-02  \n",
       "28  2.345729e-01  \n",
       "29  2.621144e-01  \n",
       "30  7.982735e-01  \n",
       "31  9.145495e-01  \n",
       "32  8.236571e-01  \n",
       "33  7.366048e-01  \n",
       "34  4.059820e-01  \n",
       "35  7.399394e-01  \n",
       "36  7.601002e-01  \n",
       "37  8.682911e-01  \n",
       "38  1.550806e-01  \n",
       "39  4.041020e-01  \n",
       "40  9.563435e-01  \n",
       "41  9.512780e-01  \n",
       "42  6.045872e-03  \n",
       "43  2.325810e-01  \n",
       "44  3.537704e-03  \n",
       "45  1.517693e-03  \n",
       "46  1.968260e-01  \n",
       "47  4.532615e-02  \n",
       "48  3.667720e-01  \n",
       "49  7.697718e-02  "
      ]
     },
     "execution_count": 52,
     "metadata": {},
     "output_type": "execute_result"
    }
   ],
   "source": [
    "tabla_resultados"
   ]
  },
  {
   "cell_type": "code",
   "execution_count": 53,
   "id": "5fd6fca4-fd2e-40db-a11a-b53461766b98",
   "metadata": {
    "tags": []
   },
   "outputs": [
    {
     "data": {
      "text/html": [
       "<div>\n",
       "<style scoped>\n",
       "    .dataframe tbody tr th:only-of-type {\n",
       "        vertical-align: middle;\n",
       "    }\n",
       "\n",
       "    .dataframe tbody tr th {\n",
       "        vertical-align: top;\n",
       "    }\n",
       "\n",
       "    .dataframe thead th {\n",
       "        text-align: right;\n",
       "    }\n",
       "</style>\n",
       "<table border=\"1\" class=\"dataframe\">\n",
       "  <thead>\n",
       "    <tr style=\"text-align: right;\">\n",
       "      <th></th>\n",
       "      <th>Variable Independiente</th>\n",
       "      <th>Coeficientes</th>\n",
       "      <th>p_values</th>\n",
       "    </tr>\n",
       "  </thead>\n",
       "  <tbody>\n",
       "    <tr>\n",
       "      <th>1</th>\n",
       "      <td>Account_check_status_last2</td>\n",
       "      <td>1.321375</td>\n",
       "      <td>1.761936e-11</td>\n",
       "    </tr>\n",
       "    <tr>\n",
       "      <th>3</th>\n",
       "      <td>Credit_history_critical account/ other credits...</td>\n",
       "      <td>1.263540</td>\n",
       "      <td>3.239321e-04</td>\n",
       "    </tr>\n",
       "    <tr>\n",
       "      <th>8</th>\n",
       "      <td>Purpose_repairs_carUsed_retraining</td>\n",
       "      <td>1.186932</td>\n",
       "      <td>3.750678e-03</td>\n",
       "    </tr>\n",
       "    <tr>\n",
       "      <th>11</th>\n",
       "      <td>Savings_unknown/ no savings account</td>\n",
       "      <td>0.959420</td>\n",
       "      <td>3.718823e-04</td>\n",
       "    </tr>\n",
       "    <tr>\n",
       "      <th>12</th>\n",
       "      <td>Savings_.. &gt;= 1000 DM</td>\n",
       "      <td>1.124555</td>\n",
       "      <td>2.207997e-02</td>\n",
       "    </tr>\n",
       "    <tr>\n",
       "      <th>15</th>\n",
       "      <td>Present_emp_since_4 &lt;= ... &lt; 7 years</td>\n",
       "      <td>0.579712</td>\n",
       "      <td>4.509751e-02</td>\n",
       "    </tr>\n",
       "    <tr>\n",
       "      <th>18</th>\n",
       "      <td>Personal_status_sex_male : single</td>\n",
       "      <td>0.855076</td>\n",
       "      <td>2.280033e-02</td>\n",
       "    </tr>\n",
       "    <tr>\n",
       "      <th>23</th>\n",
       "      <td>Other_installment_plans_none</td>\n",
       "      <td>0.533758</td>\n",
       "      <td>1.530720e-02</td>\n",
       "    </tr>\n",
       "    <tr>\n",
       "      <th>42</th>\n",
       "      <td>Credit_amount_1</td>\n",
       "      <td>1.322748</td>\n",
       "      <td>6.045872e-03</td>\n",
       "    </tr>\n",
       "    <tr>\n",
       "      <th>44</th>\n",
       "      <td>Installment_as_income_perc_1</td>\n",
       "      <td>0.849171</td>\n",
       "      <td>3.537704e-03</td>\n",
       "    </tr>\n",
       "    <tr>\n",
       "      <th>45</th>\n",
       "      <td>Installment_as_income_perc_2</td>\n",
       "      <td>0.754297</td>\n",
       "      <td>1.517693e-03</td>\n",
       "    </tr>\n",
       "    <tr>\n",
       "      <th>47</th>\n",
       "      <td>Present_res_since_1</td>\n",
       "      <td>0.593209</td>\n",
       "      <td>4.532615e-02</td>\n",
       "    </tr>\n",
       "  </tbody>\n",
       "</table>\n",
       "</div>"
      ],
      "text/plain": [
       "                               Variable Independiente  Coeficientes  \\\n",
       "1                          Account_check_status_last2      1.321375   \n",
       "3   Credit_history_critical account/ other credits...      1.263540   \n",
       "8                  Purpose_repairs_carUsed_retraining      1.186932   \n",
       "11                Savings_unknown/ no savings account      0.959420   \n",
       "12                             Savings_.. >= 1000 DM       1.124555   \n",
       "15               Present_emp_since_4 <= ... < 7 years      0.579712   \n",
       "18                  Personal_status_sex_male : single      0.855076   \n",
       "23                       Other_installment_plans_none      0.533758   \n",
       "42                                    Credit_amount_1      1.322748   \n",
       "44                       Installment_as_income_perc_1      0.849171   \n",
       "45                       Installment_as_income_perc_2      0.754297   \n",
       "47                                Present_res_since_1      0.593209   \n",
       "\n",
       "        p_values  \n",
       "1   1.761936e-11  \n",
       "3   3.239321e-04  \n",
       "8   3.750678e-03  \n",
       "11  3.718823e-04  \n",
       "12  2.207997e-02  \n",
       "15  4.509751e-02  \n",
       "18  2.280033e-02  \n",
       "23  1.530720e-02  \n",
       "42  6.045872e-03  \n",
       "44  3.537704e-03  \n",
       "45  1.517693e-03  \n",
       "47  4.532615e-02  "
      ]
     },
     "execution_count": 53,
     "metadata": {},
     "output_type": "execute_result"
    }
   ],
   "source": [
    "tabla_resultados[tabla_resultados[\"p_values\"] <= 0.05]"
   ]
  },
  {
   "cell_type": "markdown",
   "id": "10a91764-8a3b-4caf-aef8-c927e020b9ba",
   "metadata": {},
   "source": [
    "> Keep all the dummie variables of a category even if only 1 is statistically significant"
   ]
  },
  {
   "cell_type": "markdown",
   "id": "baf5a518-5e72-4921-80c9-1dd9f629bfe8",
   "metadata": {},
   "source": [
    "# Significant Variables"
   ]
  },
  {
   "cell_type": "code",
   "execution_count": null,
   "id": "bf2f99c2-07d7-4fdf-8f25-e793c8325110",
   "metadata": {},
   "outputs": [],
   "source": []
  },
  {
   "cell_type": "code",
   "execution_count": 54,
   "id": "fd54e47d-fbc7-4ccb-9a43-72f3784f3c69",
   "metadata": {
    "tags": []
   },
   "outputs": [],
   "source": [
    "df_model = X_train.loc[:, [\"Account_check_status_first2\",\n",
    "                           \"Account_check_status_last2\",\n",
    "                           \"Credit_history_team1\",\n",
    "                           \"Credit_history_team2\",\n",
    "                           \"Credit_history_critical account/ other credits existing (not at this bank)\",\n",
    "                           \"Purpose_vacation_forniture_education\",\n",
    "                           \"Purpose_car (new)\",\n",
    "                           \"Purpose_business\",\n",
    "                           \"Purpose_radio/television\",\n",
    "                           \"Purpose_domestic appliances\",\n",
    "                           \"Purpose_repairs_carUsed_retraining\",\n",
    "                           \"Savings_... < 100 DM\",\n",
    "                           \"Savings_100 <= ... < 500 DM\",\n",
    "                           \"Savings_500 <= ... < 1000 DM \",\n",
    "                           \"Savings_unknown/ no savings account\",\n",
    "                           \"Savings_.. >= 1000 DM \",\n",
    "                           \"Present_emp_since_unemployed_less1\",\n",
    "                           \"Present_emp_since_1 <= ... < 4 years\",\n",
    "                           \"Present_emp_since_.. >= 7 years\",\n",
    "                           \"Present_emp_since_4 <= ... < 7 years\",\n",
    "                           \"Personal_status_sex_male : divorced/separated\",\n",
    "                           \"Personal_status_sex_female : divorced/separated/married\",\n",
    "                           \"Personal_status_sex_male : married/widowed\",\n",
    "                           \"Personal_status_sex_male : single\",\n",
    "                           \"Other_debtors_co-applicant\",\n",
    "                           # \"Other_debtors_none\",\n",
    "                           # \"Other_debtors_guarantor\",\n",
    "                           \"Property_unknown / no property\",\n",
    "                           # \"Property_middle\",\n",
    "                           # \"Property_real estate\",\n",
    "                           \"Other_installment_plans_stores_bank\",\n",
    "                           \"Other_installment_plans_none\",\n",
    "                           \"Housing_free_rent\",\n",
    "                           #\"Housing_own\",\n",
    "                           \"Job_management/ self-employed/ highly qualified employee/ officer\",\n",
    "                           # \"Job_skilled employee / official\",\n",
    "                           # \"Job_unemployed_unskilled\",\n",
    "                           \"Telephone_none\",\n",
    "                           # \"Telephone_yes, registered under the customers name \",\n",
    "                           \"Foreign_worker_yes\",\n",
    "                           #\"Foreign_worker_no\",\n",
    "                           \"People_under_maintenance_2\",\n",
    "                           #\"People_under_maintenance_1\",\n",
    "                           #\"Credits_this_bank_1\",\n",
    "                           #\"Credits_this_bank_2\",\n",
    "                           #\"Credits_this_bank_3\",\n",
    "                           \"Credits_this_bank_4\",\n",
    "                           \"Age_1\",\n",
    "                           #\"Age_2\",\n",
    "                           #\"Age_3\",\n",
    "                           #\"Age_4\",\n",
    "                           #\"Age_5\",\n",
    "                           #\"Age_6\",\n",
    "                           #\"Duration_in_month_1\",\n",
    "                           #\"Duration_in_month_2\",\n",
    "                           #\"Duration_in_month_3\",\n",
    "                           \"Duration_in_month_4\",\n",
    "                           #\"Duration_in_month_5\",\n",
    "                           \"Credit_amount_1\",\n",
    "                           \"Credit_amount_2\",\n",
    "                           \"Credit_amount_3\",\n",
    "                           \"Installment_as_income_perc_1\",\n",
    "                           \"Installment_as_income_perc_2\",\n",
    "                           \"Installment_as_income_perc_3\",\n",
    "                           \"Installment_as_income_perc_4\",\n",
    "                           \"Present_res_since_1\",\n",
    "                           \"Present_res_since_2\",\n",
    "                           \"Present_res_since_3\",\n",
    "                           \"Present_res_since_4\"]]"
   ]
  },
  {
   "cell_type": "code",
   "execution_count": 55,
   "id": "bce92b75-9e56-4974-9754-10f4a3b36169",
   "metadata": {
    "tags": []
   },
   "outputs": [],
   "source": [
    "categorias_referencia = [#\"Account_check_status_first2\",\n",
    "                         #\"Credit_history_team1\",\n",
    "                         #\"Purpose_vacation_forniture_education\",\n",
    "                         #\"Savings_... < 100 DM\",\n",
    "                         #\"Present_emp_since_unemployed_less1\",\n",
    "                         #\"Personal_status_sex_male : divorced/separated\",\n",
    "                         \"Other_debtors_co-applicant\",\n",
    "                         \"Property_unknown / no property\",\n",
    "                         #\"Other_installment_plans_stores_bank\",\n",
    "                         \"Housing_free_rent\",\n",
    "                         \"Job_management/ self-employed/ highly qualified employee/ officer\",\n",
    "                         \"Telephone_none\",\n",
    "                         \"Foreign_worker_yes\",\n",
    "                         \"People_under_maintenance_1\",\n",
    "                         \"Credits_this_bank_4\",\n",
    "                         \"Age_1\",\n",
    "                         \"Duration_in_month_4\"]\n",
    "                         #\"Credit_amount_3\"\n",
    "                         #\"Installment_as_income_perc_4\"\n",
    "                         #\"Present_res_since_2\"]"
   ]
  },
  {
   "cell_type": "code",
   "execution_count": 59,
   "id": "d32e2a0d-52e6-4f0f-831e-4e35b1aac9d6",
   "metadata": {
    "tags": []
   },
   "outputs": [],
   "source": [
    "X_entreno = X_train.drop(categorias_referencia, axis=1)"
   ]
  },
  {
   "cell_type": "code",
   "execution_count": 61,
   "id": "4a0f7d6d-f341-438a-922f-4c49b285feae",
   "metadata": {
    "tags": []
   },
   "outputs": [],
   "source": [
    "# Define another regression object\n",
    "regresion_2 = LogisticRegression(solver=\"newton-cg\") "
   ]
  },
  {
   "cell_type": "code",
   "execution_count": 62,
   "id": "d74ea39c-1726-4b44-983d-950577890aac",
   "metadata": {
    "tags": []
   },
   "outputs": [],
   "source": [
    "# Now with p-values\n",
    "regresion_2_p_values = RegresionLogistica_con_p_values()"
   ]
  },
  {
   "cell_type": "code",
   "execution_count": 63,
   "id": "41f9b28a-c19c-4c4d-b2cc-be0ef05d3853",
   "metadata": {
    "tags": []
   },
   "outputs": [
    {
     "ename": "ValueError",
     "evalue": "could not convert string to float: '< 0 DM'",
     "output_type": "error",
     "traceback": [
      "\u001b[0;31m---------------------------------------------------------------------------\u001b[0m",
      "\u001b[0;31mValueError\u001b[0m                                Traceback (most recent call last)",
      "\u001b[0;32m<ipython-input-63-7391fd5202dd>\u001b[0m in \u001b[0;36m<module>\u001b[0;34m\u001b[0m\n\u001b[0;32m----> 1\u001b[0;31m \u001b[0mregresion_2\u001b[0m\u001b[0;34m.\u001b[0m\u001b[0mfit\u001b[0m\u001b[0;34m(\u001b[0m\u001b[0mX_entreno\u001b[0m\u001b[0;34m,\u001b[0m \u001b[0my_train\u001b[0m\u001b[0;34m.\u001b[0m\u001b[0mvalues\u001b[0m\u001b[0;34m.\u001b[0m\u001b[0mravel\u001b[0m\u001b[0;34m(\u001b[0m\u001b[0;34m)\u001b[0m\u001b[0;34m)\u001b[0m\u001b[0;34m\u001b[0m\u001b[0;34m\u001b[0m\u001b[0m\n\u001b[0m",
      "\u001b[0;32m/opt/anaconda3/lib/python3.7/site-packages/sklearn/linear_model/_logistic.py\u001b[0m in \u001b[0;36mfit\u001b[0;34m(self, X, y, sample_weight)\u001b[0m\n\u001b[1;32m   1525\u001b[0m \u001b[0;34m\u001b[0m\u001b[0m\n\u001b[1;32m   1526\u001b[0m         X, y = check_X_y(X, y, accept_sparse='csr', dtype=_dtype, order=\"C\",\n\u001b[0;32m-> 1527\u001b[0;31m                          accept_large_sparse=solver != 'liblinear')\n\u001b[0m\u001b[1;32m   1528\u001b[0m         \u001b[0mcheck_classification_targets\u001b[0m\u001b[0;34m(\u001b[0m\u001b[0my\u001b[0m\u001b[0;34m)\u001b[0m\u001b[0;34m\u001b[0m\u001b[0;34m\u001b[0m\u001b[0m\n\u001b[1;32m   1529\u001b[0m         \u001b[0mself\u001b[0m\u001b[0;34m.\u001b[0m\u001b[0mclasses_\u001b[0m \u001b[0;34m=\u001b[0m \u001b[0mnp\u001b[0m\u001b[0;34m.\u001b[0m\u001b[0munique\u001b[0m\u001b[0;34m(\u001b[0m\u001b[0my\u001b[0m\u001b[0;34m)\u001b[0m\u001b[0;34m\u001b[0m\u001b[0;34m\u001b[0m\u001b[0m\n",
      "\u001b[0;32m/opt/anaconda3/lib/python3.7/site-packages/sklearn/utils/validation.py\u001b[0m in \u001b[0;36mcheck_X_y\u001b[0;34m(X, y, accept_sparse, accept_large_sparse, dtype, order, copy, force_all_finite, ensure_2d, allow_nd, multi_output, ensure_min_samples, ensure_min_features, y_numeric, warn_on_dtype, estimator)\u001b[0m\n\u001b[1;32m    753\u001b[0m                     \u001b[0mensure_min_features\u001b[0m\u001b[0;34m=\u001b[0m\u001b[0mensure_min_features\u001b[0m\u001b[0;34m,\u001b[0m\u001b[0;34m\u001b[0m\u001b[0;34m\u001b[0m\u001b[0m\n\u001b[1;32m    754\u001b[0m                     \u001b[0mwarn_on_dtype\u001b[0m\u001b[0;34m=\u001b[0m\u001b[0mwarn_on_dtype\u001b[0m\u001b[0;34m,\u001b[0m\u001b[0;34m\u001b[0m\u001b[0;34m\u001b[0m\u001b[0m\n\u001b[0;32m--> 755\u001b[0;31m                     estimator=estimator)\n\u001b[0m\u001b[1;32m    756\u001b[0m     \u001b[0;32mif\u001b[0m \u001b[0mmulti_output\u001b[0m\u001b[0;34m:\u001b[0m\u001b[0;34m\u001b[0m\u001b[0;34m\u001b[0m\u001b[0m\n\u001b[1;32m    757\u001b[0m         y = check_array(y, 'csr', force_all_finite=True, ensure_2d=False,\n",
      "\u001b[0;32m/opt/anaconda3/lib/python3.7/site-packages/sklearn/utils/validation.py\u001b[0m in \u001b[0;36mcheck_array\u001b[0;34m(array, accept_sparse, accept_large_sparse, dtype, order, copy, force_all_finite, ensure_2d, allow_nd, ensure_min_samples, ensure_min_features, warn_on_dtype, estimator)\u001b[0m\n\u001b[1;32m    529\u001b[0m                     \u001b[0marray\u001b[0m \u001b[0;34m=\u001b[0m \u001b[0marray\u001b[0m\u001b[0;34m.\u001b[0m\u001b[0mastype\u001b[0m\u001b[0;34m(\u001b[0m\u001b[0mdtype\u001b[0m\u001b[0;34m,\u001b[0m \u001b[0mcasting\u001b[0m\u001b[0;34m=\u001b[0m\u001b[0;34m\"unsafe\"\u001b[0m\u001b[0;34m,\u001b[0m \u001b[0mcopy\u001b[0m\u001b[0;34m=\u001b[0m\u001b[0;32mFalse\u001b[0m\u001b[0;34m)\u001b[0m\u001b[0;34m\u001b[0m\u001b[0;34m\u001b[0m\u001b[0m\n\u001b[1;32m    530\u001b[0m                 \u001b[0;32melse\u001b[0m\u001b[0;34m:\u001b[0m\u001b[0;34m\u001b[0m\u001b[0;34m\u001b[0m\u001b[0m\n\u001b[0;32m--> 531\u001b[0;31m                     \u001b[0marray\u001b[0m \u001b[0;34m=\u001b[0m \u001b[0mnp\u001b[0m\u001b[0;34m.\u001b[0m\u001b[0masarray\u001b[0m\u001b[0;34m(\u001b[0m\u001b[0marray\u001b[0m\u001b[0;34m,\u001b[0m \u001b[0morder\u001b[0m\u001b[0;34m=\u001b[0m\u001b[0morder\u001b[0m\u001b[0;34m,\u001b[0m \u001b[0mdtype\u001b[0m\u001b[0;34m=\u001b[0m\u001b[0mdtype\u001b[0m\u001b[0;34m)\u001b[0m\u001b[0;34m\u001b[0m\u001b[0;34m\u001b[0m\u001b[0m\n\u001b[0m\u001b[1;32m    532\u001b[0m             \u001b[0;32mexcept\u001b[0m \u001b[0mComplexWarning\u001b[0m\u001b[0;34m:\u001b[0m\u001b[0;34m\u001b[0m\u001b[0;34m\u001b[0m\u001b[0m\n\u001b[1;32m    533\u001b[0m                 raise ValueError(\"Complex data not supported\\n\"\n",
      "\u001b[0;32m/opt/anaconda3/lib/python3.7/site-packages/numpy/core/_asarray.py\u001b[0m in \u001b[0;36masarray\u001b[0;34m(a, dtype, order)\u001b[0m\n\u001b[1;32m     81\u001b[0m \u001b[0;34m\u001b[0m\u001b[0m\n\u001b[1;32m     82\u001b[0m     \"\"\"\n\u001b[0;32m---> 83\u001b[0;31m     \u001b[0;32mreturn\u001b[0m \u001b[0marray\u001b[0m\u001b[0;34m(\u001b[0m\u001b[0ma\u001b[0m\u001b[0;34m,\u001b[0m \u001b[0mdtype\u001b[0m\u001b[0;34m,\u001b[0m \u001b[0mcopy\u001b[0m\u001b[0;34m=\u001b[0m\u001b[0;32mFalse\u001b[0m\u001b[0;34m,\u001b[0m \u001b[0morder\u001b[0m\u001b[0;34m=\u001b[0m\u001b[0morder\u001b[0m\u001b[0;34m)\u001b[0m\u001b[0;34m\u001b[0m\u001b[0;34m\u001b[0m\u001b[0m\n\u001b[0m\u001b[1;32m     84\u001b[0m \u001b[0;34m\u001b[0m\u001b[0m\n\u001b[1;32m     85\u001b[0m \u001b[0;34m\u001b[0m\u001b[0m\n",
      "\u001b[0;32m/opt/anaconda3/lib/python3.7/site-packages/pandas/core/generic.py\u001b[0m in \u001b[0;36m__array__\u001b[0;34m(self, dtype)\u001b[0m\n\u001b[1;32m   1896\u001b[0m \u001b[0;34m\u001b[0m\u001b[0m\n\u001b[1;32m   1897\u001b[0m     \u001b[0;32mdef\u001b[0m \u001b[0m__array__\u001b[0m\u001b[0;34m(\u001b[0m\u001b[0mself\u001b[0m\u001b[0;34m,\u001b[0m \u001b[0mdtype\u001b[0m\u001b[0;34m=\u001b[0m\u001b[0;32mNone\u001b[0m\u001b[0;34m)\u001b[0m \u001b[0;34m->\u001b[0m \u001b[0mnp\u001b[0m\u001b[0;34m.\u001b[0m\u001b[0mndarray\u001b[0m\u001b[0;34m:\u001b[0m\u001b[0;34m\u001b[0m\u001b[0;34m\u001b[0m\u001b[0m\n\u001b[0;32m-> 1898\u001b[0;31m         \u001b[0;32mreturn\u001b[0m \u001b[0mnp\u001b[0m\u001b[0;34m.\u001b[0m\u001b[0masarray\u001b[0m\u001b[0;34m(\u001b[0m\u001b[0mself\u001b[0m\u001b[0;34m.\u001b[0m\u001b[0m_values\u001b[0m\u001b[0;34m,\u001b[0m \u001b[0mdtype\u001b[0m\u001b[0;34m=\u001b[0m\u001b[0mdtype\u001b[0m\u001b[0;34m)\u001b[0m\u001b[0;34m\u001b[0m\u001b[0;34m\u001b[0m\u001b[0m\n\u001b[0m\u001b[1;32m   1899\u001b[0m \u001b[0;34m\u001b[0m\u001b[0m\n\u001b[1;32m   1900\u001b[0m     def __array_wrap__(\n",
      "\u001b[0;32m/opt/anaconda3/lib/python3.7/site-packages/numpy/core/_asarray.py\u001b[0m in \u001b[0;36masarray\u001b[0;34m(a, dtype, order)\u001b[0m\n\u001b[1;32m     81\u001b[0m \u001b[0;34m\u001b[0m\u001b[0m\n\u001b[1;32m     82\u001b[0m     \"\"\"\n\u001b[0;32m---> 83\u001b[0;31m     \u001b[0;32mreturn\u001b[0m \u001b[0marray\u001b[0m\u001b[0;34m(\u001b[0m\u001b[0ma\u001b[0m\u001b[0;34m,\u001b[0m \u001b[0mdtype\u001b[0m\u001b[0;34m,\u001b[0m \u001b[0mcopy\u001b[0m\u001b[0;34m=\u001b[0m\u001b[0;32mFalse\u001b[0m\u001b[0;34m,\u001b[0m \u001b[0morder\u001b[0m\u001b[0;34m=\u001b[0m\u001b[0morder\u001b[0m\u001b[0;34m)\u001b[0m\u001b[0;34m\u001b[0m\u001b[0;34m\u001b[0m\u001b[0m\n\u001b[0m\u001b[1;32m     84\u001b[0m \u001b[0;34m\u001b[0m\u001b[0m\n\u001b[1;32m     85\u001b[0m \u001b[0;34m\u001b[0m\u001b[0m\n",
      "\u001b[0;31mValueError\u001b[0m: could not convert string to float: '< 0 DM'"
     ]
    }
   ],
   "source": [
    "regresion_2.fit(X_entreno, y_train.values.ravel())"
   ]
  },
  {
   "cell_type": "code",
   "execution_count": null,
   "id": "41c78a5e-e701-4eb1-bffc-44cc4b4c7614",
   "metadata": {},
   "outputs": [],
   "source": []
  }
 ],
 "metadata": {
  "kernelspec": {
   "display_name": "Python 3",
   "language": "python",
   "name": "python3"
  },
  "language_info": {
   "codemirror_mode": {
    "name": "ipython",
    "version": 3
   },
   "file_extension": ".py",
   "mimetype": "text/x-python",
   "name": "python",
   "nbconvert_exporter": "python",
   "pygments_lexer": "ipython3",
   "version": "3.7.6"
  }
 },
 "nbformat": 4,
 "nbformat_minor": 5
}
